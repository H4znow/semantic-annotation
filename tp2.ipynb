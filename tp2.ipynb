{
 "cells": [
  {
   "cell_type": "markdown",
   "metadata": {},
   "source": [
    "# TP2 Semantic annotation (Named-Entity Linking) and text enrichment"
   ]
  },
  {
   "cell_type": "markdown",
   "metadata": {},
   "source": [
    "@Authors : `HADDOU, Amine` and `DE SERROUX, Colin`\n",
    "\n",
    "The main objective of this TD is to develop an automatic system which takes a \n",
    "input text, recognizes the entities mentioned there and determines the resource of \n",
    "DBpedia most appropriate for each recognized entity depending on the context. \n",
    "Then, by querying each resource, the system is able to retrieve \n",
    "information to ultimately enrich/augment the original text.\n"
   ]
  },
  {
   "cell_type": "markdown",
   "metadata": {},
   "source": [
    "## Installation"
   ]
  },
  {
   "cell_type": "code",
   "execution_count": 1,
   "metadata": {},
   "outputs": [
    {
     "name": "stdout",
     "output_type": "stream",
     "text": [
      "Requirement already satisfied: pyspotlight in c:\\users\\haddo\\.virtualenvs\\tp2-1pndhv9y\\lib\\site-packages (0.7.2)\n",
      "Requirement already satisfied: requests~=2.10 in c:\\users\\haddo\\.virtualenvs\\tp2-1pndhv9y\\lib\\site-packages (from pyspotlight) (2.32.3)\n",
      "Requirement already satisfied: charset-normalizer<4,>=2 in c:\\users\\haddo\\.virtualenvs\\tp2-1pndhv9y\\lib\\site-packages (from requests~=2.10->pyspotlight) (3.4.0)\n",
      "Requirement already satisfied: idna<4,>=2.5 in c:\\users\\haddo\\.virtualenvs\\tp2-1pndhv9y\\lib\\site-packages (from requests~=2.10->pyspotlight) (3.10)\n",
      "Requirement already satisfied: urllib3<3,>=1.21.1 in c:\\users\\haddo\\.virtualenvs\\tp2-1pndhv9y\\lib\\site-packages (from requests~=2.10->pyspotlight) (2.2.3)\n",
      "Requirement already satisfied: certifi>=2017.4.17 in c:\\users\\haddo\\.virtualenvs\\tp2-1pndhv9y\\lib\\site-packages (from requests~=2.10->pyspotlight) (2024.8.30)\n",
      "Note: you may need to restart the kernel to use updated packages.\n",
      "Requirement already satisfied: SPARQLWrapper in c:\\users\\haddo\\.virtualenvs\\tp2-1pndhv9y\\lib\\site-packages (2.0.0)\n",
      "Requirement already satisfied: rdflib>=6.1.1 in c:\\users\\haddo\\.virtualenvs\\tp2-1pndhv9y\\lib\\site-packages (from SPARQLWrapper) (7.1.1)\n",
      "Requirement already satisfied: isodate<1.0.0,>=0.7.2 in c:\\users\\haddo\\.virtualenvs\\tp2-1pndhv9y\\lib\\site-packages (from rdflib>=6.1.1->SPARQLWrapper) (0.7.2)\n",
      "Requirement already satisfied: pyparsing<4,>=2.1.0 in c:\\users\\haddo\\.virtualenvs\\tp2-1pndhv9y\\lib\\site-packages (from rdflib>=6.1.1->SPARQLWrapper) (3.2.0)\n",
      "Note: you may need to restart the kernel to use updated packages.\n",
      "Requirement already satisfied: pandas in c:\\users\\haddo\\.virtualenvs\\tp2-1pndhv9y\\lib\\site-packages (2.2.3)\n",
      "Requirement already satisfied: numpy>=1.22.4 in c:\\users\\haddo\\.virtualenvs\\tp2-1pndhv9y\\lib\\site-packages (from pandas) (2.1.3)\n",
      "Requirement already satisfied: python-dateutil>=2.8.2 in c:\\users\\haddo\\.virtualenvs\\tp2-1pndhv9y\\lib\\site-packages (from pandas) (2.9.0.post0)\n",
      "Requirement already satisfied: pytz>=2020.1 in c:\\users\\haddo\\.virtualenvs\\tp2-1pndhv9y\\lib\\site-packages (from pandas) (2024.2)\n",
      "Requirement already satisfied: tzdata>=2022.7 in c:\\users\\haddo\\.virtualenvs\\tp2-1pndhv9y\\lib\\site-packages (from pandas) (2024.2)\n",
      "Requirement already satisfied: six>=1.5 in c:\\users\\haddo\\.virtualenvs\\tp2-1pndhv9y\\lib\\site-packages (from python-dateutil>=2.8.2->pandas) (1.17.0)\n",
      "Note: you may need to restart the kernel to use updated packages.\n"
     ]
    }
   ],
   "source": [
    "%pip install pyspotlight\n",
    "%pip install SPARQLWrapper\n",
    "%pip install pandas"
   ]
  },
  {
   "cell_type": "markdown",
   "metadata": {},
   "source": [
    "## Librairies"
   ]
  },
  {
   "cell_type": "code",
   "execution_count": 2,
   "metadata": {},
   "outputs": [],
   "source": [
    "import spotlight\n",
    "from SPARQLWrapper import SPARQLWrapper, JSON\n",
    "import pandas as pd"
   ]
  },
  {
   "cell_type": "markdown",
   "metadata": {},
   "source": [
    "## Global functions"
   ]
  },
  {
   "cell_type": "code",
   "execution_count": 3,
   "metadata": {},
   "outputs": [],
   "source": [
    "def get_annotations(api_url: str, text_to_annotate: str, confidence: float = 0.4, support: int = 20) -> list[dict]:\n",
    "    \"\"\"\n",
    "    Retrieving annotations in the tweet with the corresponding link.\n",
    "\n",
    "    :param api_url: the url of DBPedia api or localhost\n",
    "    :param text_to_annotate: the tweet\n",
    "    :param confidence: TODO\n",
    "    :param support: TODO\n",
    "    \"\"\"\n",
    "    \n",
    "    try:\n",
    "        annotations = spotlight.annotate(\n",
    "            api_url,\n",
    "            text_to_annotate,\n",
    "            confidence=confidence,\n",
    "            support=support,\n",
    "        )\n",
    "\n",
    "        # There is no need to explain what twitter is when talking about a tweet.\n",
    "        annotations = [item for item in annotations if item[\"surfaceForm\"] != \"t.co\"]\n",
    "\n",
    "        return annotations\n",
    "    except spotlight.SpotlightException as e:\n",
    "        print(f\"Spotlight error : {e}\")\n",
    "\n",
    "        return []"
   ]
  },
  {
   "cell_type": "code",
   "execution_count": 4,
   "metadata": {},
   "outputs": [],
   "source": [
    "def get_entity_info(uri: str) -> list:\n",
    "    \"\"\"\n",
    "    Retrieves information from an annotation using its URI in DBPedia.\n",
    "    \n",
    "    :param uri: URI of the annotation\n",
    "    \"\"\"\n",
    "\n",
    "    sparql = SPARQLWrapper(\"http://dbpedia.org/sparql\")\n",
    "    sparql.setQuery(f\"\"\"\n",
    "        PREFIX rdfs: <http://www.w3.org/2000/01/rdf-schema#>\n",
    "        SELECT ?comment\n",
    "        WHERE {{\n",
    "            <{uri}> rdfs:comment ?comment .\n",
    "            FILTER(langMatches(lang(?comment), \"EN\"))\n",
    "        }}\n",
    "    \"\"\")\n",
    "    sparql.setReturnFormat(JSON)\n",
    "\n",
    "    try:\n",
    "        results = sparql.query().convert()\n",
    "\n",
    "        return [result[\"comment\"][\"value\"] for result in results[\"results\"][\"bindings\"]]\n",
    "    except Exception as e:\n",
    "        print(f\"SPARQL error : {e}\")\n",
    "\n",
    "        return []"
   ]
  },
  {
   "cell_type": "markdown",
   "metadata": {},
   "source": [
    "## The test code"
   ]
  },
  {
   "cell_type": "markdown",
   "metadata": {},
   "source": [
    "TODO joué avec la confidence et le support"
   ]
  },
  {
   "cell_type": "code",
   "execution_count": 5,
   "metadata": {},
   "outputs": [
    {
     "name": "stdout",
     "output_type": "stream",
     "text": [
      "Entities annoted :\n",
      "Entity : http://dbpedia.org/resource/Planetary_equilibrium_temperature - Surface : equilibrium temperature\n",
      "Comment : The planetary equilibrium temperature is a theoretical temperature that a planet would be if it were a black body being heated only by its parent star. In this model, the presence or absence of an atmosphere (and therefore any greenhouse effect) is irrelevant, as the equilibrium temperature is calculated purely from a balance with incident stellar energy.\n",
      "\n",
      "Entity : http://dbpedia.org/resource/Exoplanet - Surface : exoplanet\n",
      "Comment : An exoplanet or extrasolar planet is a planet outside the Solar System. The first possible evidence of an exoplanet was noted in 1917 but was not recognized as such. The first confirmation of detection occurred in 1992. A different planet, initially detected in 1988, was confirmed in 2003. As of 1 December 2022, there are 5,284 confirmed exoplanets in 3,899 planetary systems, with 847 systems having more than one planet.\n",
      "\n",
      "Entity : http://dbpedia.org/resource/Henry_Draper_Catalogue - Surface : HD\n",
      "Comment : The Henry Draper Catalogue (HD) is an astronomical star catalogue published between 1918 and 1924, giving spectroscopic classifications for 225,300 stars; it was later expanded by the Henry Draper Extension (HDE), published between 1925 and 1936, which gave classifications for 46,850 more stars, and by the Henry Draper Extension Charts (HDEC), published from 1937 to 1949 in the form of charts, which gave classifications for 86,933 more stars. In all, 359,083 stars were classified as of August 2017.\n",
      "\n",
      "Entity : http://dbpedia.org/resource/Archetype - Surface : archetype\n",
      "Comment : The concept of an archetype (/ˈɑːrkɪˌtaɪp/; from Ancient Greek ἄρχω (árkhō) 'to begin', and τῠ́πος (túpos) 'sort, type') appears in areas relating to behavior, historical psychology, and literary analysis. An archetype can be any of the following: Archetypes are also very close analogies to instincts, in that, long before any consciousness develops, it is the impersonal and inherited traits of human beings that present and motivate human behavior. They also continue to influence feelings and behavior even after some degree of consciousness developed later on.\n",
      "\n",
      "Entity : http://dbpedia.org/resource/Exoplanet - Surface : exoplanets\n",
      "Comment : An exoplanet or extrasolar planet is a planet outside the Solar System. The first possible evidence of an exoplanet was noted in 1917 but was not recognized as such. The first confirmation of detection occurred in 1992. A different planet, initially detected in 1988, was confirmed in 2003. As of 1 December 2022, there are 5,284 confirmed exoplanets in 3,899 planetary systems, with 847 systems having more than one planet.\n",
      "\n",
      "Entity : http://dbpedia.org/resource/Atmospheric_chemistry - Surface : atmospheric chemistry\n",
      "Comment : Atmospheric chemistry is a branch of atmospheric science in which the chemistry of the Earth's atmosphere and that of other planets is studied. It is a multidisciplinary approach of research and draws on environmental chemistry, physics, meteorology, computer modeling, oceanography, geology and volcanology and other disciplines. Research is increasingly connected with other areas of study such as climatology.\n",
      "\n"
     ]
    }
   ],
   "source": [
    "api_url = \"https://api.dbpedia-spotlight.org/en/annotate\"\n",
    "text_to_annotate = \"With an equilibrium temperature of about 4,050 kelvin, the exoplanet KELT-9b (also known as HD 195689b) is an archetype of the class of ultrahot Jupiters that straddle the transition between stars and gas-giant exoplanets and are therefore useful for studying atmospheric chemistry.\"\n",
    "\n",
    "annotations = get_annotations(api_url, text_to_annotate)\n",
    "\n",
    "print(\"Entities annoted :\")\n",
    "\n",
    "for annotation in annotations:\n",
    "    print(f\"Entity : {annotation['URI']} - Surface : {annotation['surfaceForm']}\")\n",
    "    \n",
    "    results = get_entity_info(annotation[\"URI\"])\n",
    "\n",
    "    for result in results:\n",
    "        print(f\"Comment : {result}\\n\")"
   ]
  },
  {
   "cell_type": "markdown",
   "metadata": {},
   "source": [
    "## Use cases"
   ]
  },
  {
   "cell_type": "markdown",
   "metadata": {},
   "source": [
    "### Environment"
   ]
  },
  {
   "cell_type": "code",
   "execution_count": 6,
   "metadata": {},
   "outputs": [],
   "source": [
    "dataset_name = \"hf://datasets/zeroshot/twitter-financial-news-topic/topic_train.csv\"\n",
    "api_url = \"https://api.dbpedia-spotlight.org/en/annotate\""
   ]
  },
  {
   "cell_type": "markdown",
   "metadata": {},
   "source": [
    "### Dataset"
   ]
  },
  {
   "cell_type": "markdown",
   "metadata": {},
   "source": [
    "The dataset is made up of tweets associated with labels that we will not use in this practical work that we retrieved from [twitter-financial-news-topic](https://huggingface.co/datasets/zeroshot/twitter-financial-news-topic)."
   ]
  },
  {
   "cell_type": "markdown",
   "metadata": {},
   "source": [
    "#### Loading the dataset"
   ]
  },
  {
   "cell_type": "code",
   "execution_count": 7,
   "metadata": {},
   "outputs": [
    {
     "name": "stderr",
     "output_type": "stream",
     "text": [
      "c:\\Users\\haddo\\.virtualenvs\\tp2-1Pndhv9y\\lib\\site-packages\\tqdm\\auto.py:21: TqdmWarning: IProgress not found. Please update jupyter and ipywidgets. See https://ipywidgets.readthedocs.io/en/stable/user_install.html\n",
      "  from .autonotebook import tqdm as notebook_tqdm\n"
     ]
    },
    {
     "data": {
      "text/html": [
       "<div>\n",
       "<style scoped>\n",
       "    .dataframe tbody tr th:only-of-type {\n",
       "        vertical-align: middle;\n",
       "    }\n",
       "\n",
       "    .dataframe tbody tr th {\n",
       "        vertical-align: top;\n",
       "    }\n",
       "\n",
       "    .dataframe thead th {\n",
       "        text-align: right;\n",
       "    }\n",
       "</style>\n",
       "<table border=\"1\" class=\"dataframe\">\n",
       "  <thead>\n",
       "    <tr style=\"text-align: right;\">\n",
       "      <th></th>\n",
       "      <th>text</th>\n",
       "      <th>label</th>\n",
       "    </tr>\n",
       "  </thead>\n",
       "  <tbody>\n",
       "    <tr>\n",
       "      <th>0</th>\n",
       "      <td>Here are Thursday's biggest analyst calls: App...</td>\n",
       "      <td>0</td>\n",
       "    </tr>\n",
       "    <tr>\n",
       "      <th>1</th>\n",
       "      <td>Buy Las Vegas Sands as travel to Singapore bui...</td>\n",
       "      <td>0</td>\n",
       "    </tr>\n",
       "    <tr>\n",
       "      <th>2</th>\n",
       "      <td>Piper Sandler downgrades DocuSign to sell, cit...</td>\n",
       "      <td>0</td>\n",
       "    </tr>\n",
       "    <tr>\n",
       "      <th>3</th>\n",
       "      <td>Analysts react to Tesla's latest earnings, bre...</td>\n",
       "      <td>0</td>\n",
       "    </tr>\n",
       "    <tr>\n",
       "      <th>4</th>\n",
       "      <td>Netflix and its peers are set for a ‘return to...</td>\n",
       "      <td>0</td>\n",
       "    </tr>\n",
       "  </tbody>\n",
       "</table>\n",
       "</div>"
      ],
      "text/plain": [
       "                                                text  label\n",
       "0  Here are Thursday's biggest analyst calls: App...      0\n",
       "1  Buy Las Vegas Sands as travel to Singapore bui...      0\n",
       "2  Piper Sandler downgrades DocuSign to sell, cit...      0\n",
       "3  Analysts react to Tesla's latest earnings, bre...      0\n",
       "4  Netflix and its peers are set for a ‘return to...      0"
      ]
     },
     "execution_count": 7,
     "metadata": {},
     "output_type": "execute_result"
    }
   ],
   "source": [
    "df = pd.read_csv(dataset_name)\n",
    "\n",
    "df.head()"
   ]
  },
  {
   "cell_type": "markdown",
   "metadata": {},
   "source": [
    "#### Data pre-processing"
   ]
  },
  {
   "cell_type": "markdown",
   "metadata": {},
   "source": [
    "Deletion of the 'label' column which we will not use during the lab."
   ]
  },
  {
   "cell_type": "code",
   "execution_count": 8,
   "metadata": {},
   "outputs": [
    {
     "data": {
      "text/html": [
       "<div>\n",
       "<style scoped>\n",
       "    .dataframe tbody tr th:only-of-type {\n",
       "        vertical-align: middle;\n",
       "    }\n",
       "\n",
       "    .dataframe tbody tr th {\n",
       "        vertical-align: top;\n",
       "    }\n",
       "\n",
       "    .dataframe thead th {\n",
       "        text-align: right;\n",
       "    }\n",
       "</style>\n",
       "<table border=\"1\" class=\"dataframe\">\n",
       "  <thead>\n",
       "    <tr style=\"text-align: right;\">\n",
       "      <th></th>\n",
       "      <th>text</th>\n",
       "    </tr>\n",
       "  </thead>\n",
       "  <tbody>\n",
       "    <tr>\n",
       "      <th>0</th>\n",
       "      <td>Here are Thursday's biggest analyst calls: App...</td>\n",
       "    </tr>\n",
       "    <tr>\n",
       "      <th>1</th>\n",
       "      <td>Buy Las Vegas Sands as travel to Singapore bui...</td>\n",
       "    </tr>\n",
       "    <tr>\n",
       "      <th>2</th>\n",
       "      <td>Piper Sandler downgrades DocuSign to sell, cit...</td>\n",
       "    </tr>\n",
       "    <tr>\n",
       "      <th>3</th>\n",
       "      <td>Analysts react to Tesla's latest earnings, bre...</td>\n",
       "    </tr>\n",
       "    <tr>\n",
       "      <th>4</th>\n",
       "      <td>Netflix and its peers are set for a ‘return to...</td>\n",
       "    </tr>\n",
       "  </tbody>\n",
       "</table>\n",
       "</div>"
      ],
      "text/plain": [
       "                                                text\n",
       "0  Here are Thursday's biggest analyst calls: App...\n",
       "1  Buy Las Vegas Sands as travel to Singapore bui...\n",
       "2  Piper Sandler downgrades DocuSign to sell, cit...\n",
       "3  Analysts react to Tesla's latest earnings, bre...\n",
       "4  Netflix and its peers are set for a ‘return to..."
      ]
     },
     "execution_count": 8,
     "metadata": {},
     "output_type": "execute_result"
    }
   ],
   "source": [
    "df = df.drop(columns=[\"label\"])\n",
    "\n",
    "df.head()"
   ]
  },
  {
   "cell_type": "markdown",
   "metadata": {},
   "source": [
    "Replaced column name 'text' with 'tweet'."
   ]
  },
  {
   "cell_type": "code",
   "execution_count": 9,
   "metadata": {},
   "outputs": [
    {
     "data": {
      "text/html": [
       "<div>\n",
       "<style scoped>\n",
       "    .dataframe tbody tr th:only-of-type {\n",
       "        vertical-align: middle;\n",
       "    }\n",
       "\n",
       "    .dataframe tbody tr th {\n",
       "        vertical-align: top;\n",
       "    }\n",
       "\n",
       "    .dataframe thead th {\n",
       "        text-align: right;\n",
       "    }\n",
       "</style>\n",
       "<table border=\"1\" class=\"dataframe\">\n",
       "  <thead>\n",
       "    <tr style=\"text-align: right;\">\n",
       "      <th></th>\n",
       "      <th>tweet</th>\n",
       "    </tr>\n",
       "  </thead>\n",
       "  <tbody>\n",
       "    <tr>\n",
       "      <th>0</th>\n",
       "      <td>Here are Thursday's biggest analyst calls: App...</td>\n",
       "    </tr>\n",
       "    <tr>\n",
       "      <th>1</th>\n",
       "      <td>Buy Las Vegas Sands as travel to Singapore bui...</td>\n",
       "    </tr>\n",
       "    <tr>\n",
       "      <th>2</th>\n",
       "      <td>Piper Sandler downgrades DocuSign to sell, cit...</td>\n",
       "    </tr>\n",
       "    <tr>\n",
       "      <th>3</th>\n",
       "      <td>Analysts react to Tesla's latest earnings, bre...</td>\n",
       "    </tr>\n",
       "    <tr>\n",
       "      <th>4</th>\n",
       "      <td>Netflix and its peers are set for a ‘return to...</td>\n",
       "    </tr>\n",
       "  </tbody>\n",
       "</table>\n",
       "</div>"
      ],
      "text/plain": [
       "                                               tweet\n",
       "0  Here are Thursday's biggest analyst calls: App...\n",
       "1  Buy Las Vegas Sands as travel to Singapore bui...\n",
       "2  Piper Sandler downgrades DocuSign to sell, cit...\n",
       "3  Analysts react to Tesla's latest earnings, bre...\n",
       "4  Netflix and its peers are set for a ‘return to..."
      ]
     },
     "execution_count": 9,
     "metadata": {},
     "output_type": "execute_result"
    }
   ],
   "source": [
    "df = df.rename(columns={\"text\": \"tweet\"})\n",
    "\n",
    "df.head()"
   ]
  },
  {
   "cell_type": "markdown",
   "metadata": {},
   "source": [
    "Added the size of each tweet."
   ]
  },
  {
   "cell_type": "code",
   "execution_count": 10,
   "metadata": {},
   "outputs": [
    {
     "data": {
      "text/html": [
       "<div>\n",
       "<style scoped>\n",
       "    .dataframe tbody tr th:only-of-type {\n",
       "        vertical-align: middle;\n",
       "    }\n",
       "\n",
       "    .dataframe tbody tr th {\n",
       "        vertical-align: top;\n",
       "    }\n",
       "\n",
       "    .dataframe thead th {\n",
       "        text-align: right;\n",
       "    }\n",
       "</style>\n",
       "<table border=\"1\" class=\"dataframe\">\n",
       "  <thead>\n",
       "    <tr style=\"text-align: right;\">\n",
       "      <th></th>\n",
       "      <th>tweet</th>\n",
       "      <th>tweet_length</th>\n",
       "    </tr>\n",
       "  </thead>\n",
       "  <tbody>\n",
       "    <tr>\n",
       "      <th>0</th>\n",
       "      <td>Here are Thursday's biggest analyst calls: App...</td>\n",
       "      <td>15</td>\n",
       "    </tr>\n",
       "    <tr>\n",
       "      <th>1</th>\n",
       "      <td>Buy Las Vegas Sands as travel to Singapore bui...</td>\n",
       "      <td>13</td>\n",
       "    </tr>\n",
       "    <tr>\n",
       "      <th>2</th>\n",
       "      <td>Piper Sandler downgrades DocuSign to sell, cit...</td>\n",
       "      <td>13</td>\n",
       "    </tr>\n",
       "    <tr>\n",
       "      <th>3</th>\n",
       "      <td>Analysts react to Tesla's latest earnings, bre...</td>\n",
       "      <td>15</td>\n",
       "    </tr>\n",
       "    <tr>\n",
       "      <th>4</th>\n",
       "      <td>Netflix and its peers are set for a ‘return to...</td>\n",
       "      <td>19</td>\n",
       "    </tr>\n",
       "  </tbody>\n",
       "</table>\n",
       "</div>"
      ],
      "text/plain": [
       "                                               tweet  tweet_length\n",
       "0  Here are Thursday's biggest analyst calls: App...            15\n",
       "1  Buy Las Vegas Sands as travel to Singapore bui...            13\n",
       "2  Piper Sandler downgrades DocuSign to sell, cit...            13\n",
       "3  Analysts react to Tesla's latest earnings, bre...            15\n",
       "4  Netflix and its peers are set for a ‘return to...            19"
      ]
     },
     "execution_count": 10,
     "metadata": {},
     "output_type": "execute_result"
    }
   ],
   "source": [
    "df[\"tweet_length\"] = df[\"tweet\"].apply(lambda x: len(x.split()))\n",
    "\n",
    "df.head()"
   ]
  },
  {
   "cell_type": "markdown",
   "metadata": {},
   "source": [
    "#### Analysis of the dataset"
   ]
  },
  {
   "cell_type": "markdown",
   "metadata": {},
   "source": [
    "We only have 2 columns left 'tweet' and 'tweet_length'."
   ]
  },
  {
   "cell_type": "code",
   "execution_count": 11,
   "metadata": {},
   "outputs": [
    {
     "name": "stdout",
     "output_type": "stream",
     "text": [
      "There are 16990 rows in the dataset.\n"
     ]
    }
   ],
   "source": [
    "size = len(df)\n",
    "\n",
    "print(f\"There are {size} rows in the dataset.\")"
   ]
  },
  {
   "cell_type": "code",
   "execution_count": 12,
   "metadata": {},
   "outputs": [
    {
     "data": {
      "text/plain": [
       "True"
      ]
     },
     "execution_count": 12,
     "metadata": {},
     "output_type": "execute_result"
    }
   ],
   "source": [
    "df[\"tweet\"].is_unique"
   ]
  },
  {
   "cell_type": "markdown",
   "metadata": {},
   "source": [
    "All our tweets are unique."
   ]
  },
  {
   "cell_type": "code",
   "execution_count": 13,
   "metadata": {
    "vscode": {
     "languageId": "ruby"
    }
   },
   "outputs": [
    {
     "name": "stdout",
     "output_type": "stream",
     "text": [
      "Average tweet size : 18.31153619776339\n",
      "Median tweet size : 16.0\n"
     ]
    }
   ],
   "source": [
    "mean_length = df[\"tweet_length\"].mean()\n",
    "median_length = df[\"tweet_length\"].median()\n",
    "\n",
    "print(f\"Average tweet size : {mean_length}\")\n",
    "print(f\"Median tweet size : {median_length}\")"
   ]
  },
  {
   "cell_type": "markdown",
   "metadata": {},
   "source": [
    "### Code"
   ]
  },
  {
   "cell_type": "markdown",
   "metadata": {},
   "source": [
    "Annotation of tweets."
   ]
  },
  {
   "cell_type": "code",
   "execution_count": 14,
   "metadata": {},
   "outputs": [],
   "source": [
    "annotated_tweets = []\n",
    "\n",
    "for tweet in df[\"tweet\"][:50]:\n",
    "    annotations = get_annotations(api_url, tweet)\n",
    "    annotated_tweets.append({\n",
    "        \"tweet\": tweet,\n",
    "        \"annotations\": annotations\n",
    "    })"
   ]
  },
  {
   "cell_type": "markdown",
   "metadata": {},
   "source": [
    "Checking results."
   ]
  },
  {
   "cell_type": "code",
   "execution_count": 15,
   "metadata": {},
   "outputs": [
    {
     "name": "stdout",
     "output_type": "stream",
     "text": [
      "\n",
      "Tweet : Here are Thursday's biggest analyst calls: Apple, Amazon, Tesla, Palantir, DocuSign, Exxon &amp; more  https://t.co/QPN8Gwl7Uh\n",
      "Annotations :\n",
      "  - Apple (http://dbpedia.org/resource/Apple_Inc.)\n",
      "  - Amazon (http://dbpedia.org/resource/Amazon_Prime_Video)\n",
      "  - Tesla (http://dbpedia.org/resource/Tesla_Model_3)\n",
      "  - Palantir (http://dbpedia.org/resource/Palantir_Technologies)\n",
      "  - DocuSign (http://dbpedia.org/resource/DocuSign)\n",
      "  - Exxon (http://dbpedia.org/resource/Exxon)\n"
     ]
    }
   ],
   "source": [
    "result = annotated_tweets[0]\n",
    "print(f\"\\nTweet : {result['tweet']}\")\n",
    "print(\"Annotations :\")\n",
    "    \n",
    "for ann in result[\"annotations\"]:\n",
    "    print(f\"  - {ann['surfaceForm']} ({ann['URI']})\")"
   ]
  },
  {
   "cell_type": "markdown",
   "metadata": {},
   "source": [
    "Annotation enrichment."
   ]
  },
  {
   "cell_type": "code",
   "execution_count": 16,
   "metadata": {},
   "outputs": [],
   "source": [
    "enriched_tweets = []\n",
    "\n",
    "for result in annotated_tweets:\n",
    "    enriched_annotations = []\n",
    "\n",
    "    for ann in result[\"annotations\"]:\n",
    "        summary = get_entity_info(ann[\"URI\"])\n",
    "\n",
    "        if summary:\n",
    "            enriched_annotations.append({\n",
    "                \"entity\": ann[\"surfaceForm\"],\n",
    "                \"uri\": ann[\"URI\"],\n",
    "                \"summary\": summary[0]\n",
    "            })\n",
    "    \n",
    "    enriched_tweets.append({\n",
    "        \"tweet\": result[\"tweet\"],\n",
    "        \"enriched_annotations\": enriched_annotations\n",
    "    })"
   ]
  },
  {
   "cell_type": "markdown",
   "metadata": {},
   "source": [
    "Tweets enriched."
   ]
  },
  {
   "cell_type": "code",
   "execution_count": 17,
   "metadata": {},
   "outputs": [],
   "source": [
    "enriched_texts = []\n",
    "\n",
    "for enriched in enriched_tweets:\n",
    "    tweet = enriched[\"tweet\"]\n",
    "    enriched_text = tweet\n",
    "    \n",
    "    for annotation in enriched[\"enriched_annotations\"]:\n",
    "        enriched_text = enriched_text.replace(\n",
    "            annotation[\"entity\"],\n",
    "            f\"{annotation['entity']}, {annotation['summary']}\"\n",
    "        )\n",
    "    \n",
    "    enriched_texts.append(enriched_text)"
   ]
  },
  {
   "cell_type": "markdown",
   "metadata": {},
   "source": [
    "Create a new dataframe for the enriched tweets."
   ]
  },
  {
   "cell_type": "code",
   "execution_count": 18,
   "metadata": {},
   "outputs": [],
   "source": [
    "df = pd.DataFrame({\n",
    "    \"tweet\": [result[\"tweet\"] for result in annotated_tweets],\n",
    "    \"enriched_tweet\": enriched_texts,\n",
    "})"
   ]
  },
  {
   "cell_type": "markdown",
   "metadata": {},
   "source": [
    "Calculate the length of the enriched tweets."
   ]
  },
  {
   "cell_type": "code",
   "execution_count": 19,
   "metadata": {},
   "outputs": [],
   "source": [
    "df[\"tweet_length\"] = df[\"tweet\"].apply(lambda x: len(x.split()))\n",
    "df[\"enriched_tweet_length\"] = df[\"enriched_tweet\"].apply(lambda x: len(x.split()))"
   ]
  },
  {
   "cell_type": "markdown",
   "metadata": {},
   "source": [
    "Save the enriched tweets to a CSV file."
   ]
  },
  {
   "cell_type": "code",
   "execution_count": 20,
   "metadata": {},
   "outputs": [
    {
     "data": {
      "text/html": [
       "<div>\n",
       "<style scoped>\n",
       "    .dataframe tbody tr th:only-of-type {\n",
       "        vertical-align: middle;\n",
       "    }\n",
       "\n",
       "    .dataframe tbody tr th {\n",
       "        vertical-align: top;\n",
       "    }\n",
       "\n",
       "    .dataframe thead th {\n",
       "        text-align: right;\n",
       "    }\n",
       "</style>\n",
       "<table border=\"1\" class=\"dataframe\">\n",
       "  <thead>\n",
       "    <tr style=\"text-align: right;\">\n",
       "      <th></th>\n",
       "      <th>tweet</th>\n",
       "      <th>enriched_tweet</th>\n",
       "      <th>tweet_length</th>\n",
       "      <th>enriched_tweet_length</th>\n",
       "    </tr>\n",
       "  </thead>\n",
       "  <tbody>\n",
       "    <tr>\n",
       "      <th>0</th>\n",
       "      <td>Here are Thursday's biggest analyst calls: App...</td>\n",
       "      <td>Here are Thursday's biggest analyst calls: App...</td>\n",
       "      <td>15</td>\n",
       "      <td>480</td>\n",
       "    </tr>\n",
       "    <tr>\n",
       "      <th>1</th>\n",
       "      <td>Buy Las Vegas Sands as travel to Singapore bui...</td>\n",
       "      <td>Buy, Buy (Russian: Буй) is a town in Kostroma ...</td>\n",
       "      <td>13</td>\n",
       "      <td>265</td>\n",
       "    </tr>\n",
       "    <tr>\n",
       "      <th>2</th>\n",
       "      <td>Piper Sandler downgrades DocuSign to sell, cit...</td>\n",
       "      <td>Piper, Piper Aircraft, Inc. is a manufacturer ...</td>\n",
       "      <td>13</td>\n",
       "      <td>297</td>\n",
       "    </tr>\n",
       "    <tr>\n",
       "      <th>3</th>\n",
       "      <td>Analysts react to Tesla's latest earnings, bre...</td>\n",
       "      <td>Analysts react to Tesla, The Tesla Model 3 is ...</td>\n",
       "      <td>15</td>\n",
       "      <td>216</td>\n",
       "    </tr>\n",
       "    <tr>\n",
       "      <th>4</th>\n",
       "      <td>Netflix and its peers are set for a ‘return to...</td>\n",
       "      <td>Netflix, Netflix, Inc. is an American subscrip...</td>\n",
       "      <td>19</td>\n",
       "      <td>202</td>\n",
       "    </tr>\n",
       "  </tbody>\n",
       "</table>\n",
       "</div>"
      ],
      "text/plain": [
       "                                               tweet  \\\n",
       "0  Here are Thursday's biggest analyst calls: App...   \n",
       "1  Buy Las Vegas Sands as travel to Singapore bui...   \n",
       "2  Piper Sandler downgrades DocuSign to sell, cit...   \n",
       "3  Analysts react to Tesla's latest earnings, bre...   \n",
       "4  Netflix and its peers are set for a ‘return to...   \n",
       "\n",
       "                                      enriched_tweet  tweet_length  \\\n",
       "0  Here are Thursday's biggest analyst calls: App...            15   \n",
       "1  Buy, Buy (Russian: Буй) is a town in Kostroma ...            13   \n",
       "2  Piper, Piper Aircraft, Inc. is a manufacturer ...            13   \n",
       "3  Analysts react to Tesla, The Tesla Model 3 is ...            15   \n",
       "4  Netflix, Netflix, Inc. is an American subscrip...            19   \n",
       "\n",
       "   enriched_tweet_length  \n",
       "0                    480  \n",
       "1                    265  \n",
       "2                    297  \n",
       "3                    216  \n",
       "4                    202  "
      ]
     },
     "execution_count": 20,
     "metadata": {},
     "output_type": "execute_result"
    }
   ],
   "source": [
    "df.to_csv(\"enriched_tweets.csv\", index=False, sep=\";\")\n",
    "\n",
    "df.head()"
   ]
  },
  {
   "cell_type": "markdown",
   "metadata": {},
   "source": [
    "## Vizualization"
   ]
  },
  {
   "cell_type": "code",
   "execution_count": 21,
   "metadata": {},
   "outputs": [
    {
     "name": "stdout",
     "output_type": "stream",
     "text": [
      "\n",
      "Original tweet : Here are Thursday's biggest analyst calls: Apple, Amazon, Tesla, Palantir, DocuSign, Exxon &amp; more  https://t.co/QPN8Gwl7Uh\n",
      "Enriched tweet : Here are Thursday's biggest analyst calls: Apple, Apple Inc. is an American multinational technology company headquartered in Cupertino, California, United States. Apple is the largest technology company by revenue (totaling US$365.8 billion in 2021) and, as of June 2022, is the world's biggest company by market capitalization, the fourth-largest personal computer vendor by unit sales and second-largest mobile phone manufacturer. It is one of the Big Five American information technology companies, alongside Alphabet, Amazon, Amazon Prime Video, also known simply as Prime Video, is an American subscription video on-demand over-the-top streaming and rental service of Amazon offered as a standalone service or as part of Amazon's Prime subscription. The service primarily distributes films and television series produced by Amazon Studios and MGM Holdings or licensed to Amazon, as Amazon Originals, with the service also hosting content from other providers, content add-ons, live sporting events, and video rental and purchasing services., Meta, and Microsoft., Amazon, Amazon Prime Video, also known simply as Prime Video, is an American subscription video on-demand over-the-top streaming and rental service of Amazon offered as a standalone service or as part of Amazon's Prime subscription. The service primarily distributes films and television series produced by Amazon Studios and MGM Holdings or licensed to Amazon, as Amazon Originals, with the service also hosting content from other providers, content add-ons, live sporting events, and video rental and purchasing services., Tesla, The Tesla Model 3 is a compact executive sedan that is battery powered and produced by Tesla. Limited production of the Model 3 began in mid-2017, with the first production vehicle rolling off the assembly line on July 7, 2017. The official launch and delivery of the first 30 cars took place on July 28. The base Model 3 delivers an EPA-rated all-electric range of 272 miles (438 km) and the Long Range version delivers 358 miles (576 km). According to Tesla, the Model 3 carries full self-driving hardware, with periodic software updates adding functionality., Palantir, Palantir Technologies is a public American software company that specializes in big data analytics. Headquartered in Denver, Colorado, it was founded by Peter Thiel, Nathan Gettings, Joe Lonsdale, Stephen Cohen, and Alex Karp in 2003. The company's name is derived from The Lord of the Rings where the magical palantíri were \"seeing-stones,\" described as indestructible balls of crystal used for communication and to see events in other parts of the world., DocuSign, DocuSign, Inc. is an American company headquartered in San Francisco, California, that allows organizations to manage electronic agreements. As part of the DocuSign Agreement Cloud, DocuSign offers eSignature, a way to sign electronically on different devices. DocuSign has over 1 million customers and hundreds of millions of users in more than 180 countries. Signatures processed by DocuSign are compliant with the US ESIGN Act and the European Union's eIDAS regulation, including EU Advanced and EU, Qualified Signatures., Exxon &amp; more  https://t.co/QPN8Gwl7Uh\n",
      "Original tweet length : 15\n",
      "Enriched tweet length : 480\n",
      "Annotations :\n",
      "  - Apple (http://dbpedia.org/resource/Apple_Inc.)\n",
      "  - Amazon (http://dbpedia.org/resource/Amazon_Prime_Video)\n",
      "  - Tesla (http://dbpedia.org/resource/Tesla_Model_3)\n",
      "  - Palantir (http://dbpedia.org/resource/Palantir_Technologies)\n",
      "  - DocuSign (http://dbpedia.org/resource/DocuSign)\n",
      "  - Exxon (http://dbpedia.org/resource/Exxon)\n",
      "\n",
      "Original tweet : Buy Las Vegas Sands as travel to Singapore builds, Wells Fargo says  https://t.co/fLS2w57iCz\n",
      "Enriched tweet : Buy, Buy (Russian: Буй) is a town in Kostroma Oblast, Russia, which stands on the Kostroma River. Population: 25,763 (2010 Census); 27,392 (2002 Census); 32,701 (1989 Census). Las Vegas Sands, Las Vegas Sands Corporation is an American casino and resort company with corporate headquarters in Paradise, Nevada, United States. Its corporate mission is to create \"Integrated Resorts\" which feature a combination of gambling, accommodation, retail, and meeting space. as travel to Singapore, Singapore (/ˈsɪŋ(ɡ)əpɔːr/), officially the Republic of Singapore, is a sovereign island country and city-state in maritime Southeast Asia. It lies about one degree of latitude (137 kilometres or 85 miles) north of the equator, off the southern tip of the Malay Peninsula, bordering the Strait of Malacca to the west, the Singapore Strait to the south, the South China Sea to the east, and the Straits of Johor to the north. The country's territory is composed of one main island, 63 satellite islands and islets, and one outlying islet; the combined area of these has increased by 25% since the country's independence as a result of extensive land reclamation projects. It has the third highest population density in the world. With a multicultural population and recognising the need to respect c builds, Wells Fargo, Wells Fargo & Company is an American multinational financial services company with corporate headquarters in San Francisco, California; operational headquarters in Manhattan; and managerial offices throughout the United States and internationally. The company has operations in 35 countries with over 70 million customers globally. It is considered a systemically important financial institution by the Financial Stability Board. says  https://t.co/fLS2w57iCz\n",
      "Original tweet length : 13\n",
      "Enriched tweet length : 265\n",
      "Annotations :\n",
      "  - Buy (http://dbpedia.org/resource/Buy,_Kostroma_Oblast)\n",
      "  - Las Vegas Sands (http://dbpedia.org/resource/Las_Vegas_Sands)\n",
      "  - Singapore (http://dbpedia.org/resource/Singapore)\n",
      "  - Wells Fargo (http://dbpedia.org/resource/Wells_Fargo)\n",
      "\n",
      "Original tweet : Piper Sandler downgrades DocuSign to sell, citing elevated risks amid CEO transition  https://t.co/1EmtywmYpr\n",
      "Enriched tweet : Piper, Piper Aircraft, Inc. is a manufacturer of general aviation aircraft, located at the Vero Beach Regional Airport in Vero Beach, Florida, United States and owned since 2009 by the Government of Brunei. Throughout much of the mid-to-late 20th century, it was considered to be one of the \"Big Three\" in the field of general aviation manufacturing, along with Beechcraft and Cessna. Between its founding in 1927 and the end of 2009, the company produced 144,000 aircraft in 160 certified models, of which 90,000 are still flying. Sandler downgrades DocuSign, DocuSign, Inc. is an American company headquartered in San Francisco, California, that allows organizations to manage electronic agreements. As part of the DocuSign Agreement Cloud, DocuSign offers eSignature, a way to sign electronically on different devices. DocuSign has over 1 million customers and hundreds of millions of users in more than 180 countries. Signatures processed by DocuSign are compliant with the US ESIGN Act and the European Union's eIDAS regulation, including EU Advanced and EU, Qualified Signatures. to sell, citing elevated risks amid CEO, A chief executive officer (CEO), also known as a central executive officer (CEO), chief administrator officer (CAO) or just chief executive (CE), is one of a number of corporate executives charged with the management of an organization – especially an independent legal entity such as a company or nonprofit institution. CEOs find roles in a range of organizations, including public and private corporations, non-profit organizations and even some government organizations (notably state-owned enterprises). The CEO of a corporation or company typically reports to the board of directors and is charged with maximizing the value of the business, which may include maximizing the share price, market share, revenues or another element. In the non-profit and government sector, CEOs typically aim at ac transition  https://t.co/1EmtywmYpr\n",
      "Original tweet length : 13\n",
      "Enriched tweet length : 297\n",
      "Annotations :\n",
      "  - Piper (http://dbpedia.org/resource/Piper_Aircraft)\n",
      "  - DocuSign (http://dbpedia.org/resource/DocuSign)\n",
      "  - CEO (http://dbpedia.org/resource/Chief_executive_officer)\n",
      "\n",
      "Original tweet : Analysts react to Tesla's latest earnings, break down what's next for electric car maker  https://t.co/kwhoE6W06u\n",
      "Enriched tweet : Analysts react to Tesla, The Tesla Model 3 is a compact executive sedan that is battery powered and produced by Tesla. Limited production of the Model 3 began in mid-2017, with the first production vehicle rolling off the assembly line on July 7, 2017. The official launch and delivery of the first 30 cars took place on July 28. The base Model 3 delivers an EPA-rated all-electric range of 272 miles (438 km) and the Long Range version delivers 358 miles (576 km). According to Tesla, the Model 3 carries full self-driving hardware, with periodic software updates adding functionality.'s latest earnings, break down what's next for electric car, An electric car, battery electric car, or all-electric car is an automobile that is propelled by one or more electric motors, using only energy stored in batteries. Compared to internal combustion engine (ICE) vehicles, electric cars are quieter, have no exhaust emissions, and lower emissions overall. In the United States and the European Union, as of 2020, the total cost of ownership of recent electric vehicles is cheaper than that of equivalent ICE cars, due to lower fueling and maintenance costs. Charging an electric car can be done at a variety of charging stations; these charging stations can be installed in both houses and public areas. maker  https://t.co/kwhoE6W06u\n",
      "Original tweet length : 15\n",
      "Enriched tweet length : 216\n",
      "Annotations :\n",
      "  - Tesla (http://dbpedia.org/resource/Tesla_Model_3)\n",
      "  - electric car (http://dbpedia.org/resource/Electric_car)\n",
      "\n",
      "Original tweet : Netflix and its peers are set for a ‘return to growth,’ analysts say, giving one stock 120% upside  https://t.co/jPpdl0D9s4\n",
      "Enriched tweet : Netflix, Netflix, Inc. is an American subscription video on-demand over-the-top streaming service and production company based in Los Gatos, California. Founded in 1997 by Reed Hastings and Marc Randolph in Scotts Valley, California, it offers a film and television series library through distribution deals as well as its own productions, known as Netflix Originals. and its peers are set for a ‘return to growth,’ analysts say, giving one stock, In finance, stock (also capital stock) consists of all the shares by which ownership of a corporation or company is divided. (Especially in American English, the word \"stocks\" is also used to refer to shares.) A single share of the stock means fractional ownership of the corporation in proportion to the total number of shares. This typically entitles the shareholder (stockholder) to that fraction of the company's earnings, proceeds from liquidation of assets (after discharge of all senior claims such as secured and unsecured debt), or voting power, often dividing these up in proportion to the amount of money each stockholder has invested. Not all stock is necessarily equal, as certain classes of stock may be issued for example without voting rights, with enhanced voting rights, or with a c 120% upside  https://t.co/jPpdl0D9s4\n",
      "Original tweet length : 19\n",
      "Enriched tweet length : 202\n",
      "Annotations :\n",
      "  - Netflix (http://dbpedia.org/resource/Netflix)\n",
      "  - stock (http://dbpedia.org/resource/Stock)\n",
      "\n",
      "Original tweet : Barclays believes earnings for these underperforming stocks may surprise Wall Street  https://t.co/PHbsyVGAyE\n",
      "Enriched tweet : Barclays believes earnings for these underperforming stocks may surprise Wall Street, Wall Street is an eight-block-long street in the Financial District of Lower Manhattan in New York City. It runs between Broadway in the west to South Street and the East River in the east. The term \"Wall Street\" has become a metonym for the financial markets of the United States as a whole, the American financial services industry, New York–based financial interests, or the Financial District itself. Anchored by Wall Street, New York has been described as the world's principal financial center.  https://t.co/PHbsyVGAyE\n",
      "Original tweet length : 12\n",
      "Enriched tweet length : 94\n",
      "Annotations :\n",
      "  - Wall Street (http://dbpedia.org/resource/Wall_Street)\n",
      "\n",
      "Original tweet : Bernstein upgrades Alibaba, says shares can rally more than 20% from here  https://t.co/m3ApoPRGU0\n",
      "Enriched tweet : Bernstein, Leonard Bernstein (/ˈbɜːrnstaɪn/ BURN-styne; August 25, 1918 – October 14, 1990) was an American conductor, composer, pianist, music educator, author, and humanitarian. Considered to be one of the most important conductors of his time, he was the first American conductor to receive international acclaim. According to music critic Donal Henahan, he was \"one of the most prodigiously talented and successful musicians in American history\". Bernstein was the recipient of many honors, including seven Emmy Awards, two Tony Awards, sixteen Grammy Awards including the Lifetime Achievement Award, and the Kennedy Center Honor. upgrades Alibaba, Alibaba Group Holding Limited, also known as Alibaba (Chinese: 阿里巴巴), is a Chinese multinational technology company specializing in e-commerce, retail, Internet, and technology. Founded on 28 June 1999 in Hangzhou, Zhejiang, the company provides consumer-to-consumer (C2C), business-to-consumer (B2C), and business-to-business (B2B) sales services via web portals, as well as electronic payment services, shopping search engines, and cloud computing services. It owns and operates a diverse portfolio of companies around the world in numerous business sectors., says shares can rally, Rally is a wide-ranging form of motorsport with various competitive motoring elements such as speed tests (often called rally racing), navigation tests, or the ability to reach waypoints or a destination at a prescribed time or average speed. Rallies may be short in the form of trials at a single venue, or several thousand miles long in an extreme endurance rally. more than 20% from here  https://t.co/m3ApoPRGU0\n",
      "Original tweet length : 13\n",
      "Enriched tweet length : 240\n",
      "Annotations :\n",
      "  - Bernstein (http://dbpedia.org/resource/Leonard_Bernstein)\n",
      "  - Alibaba (http://dbpedia.org/resource/Alibaba_Group)\n",
      "  - rally (http://dbpedia.org/resource/Rallying)\n",
      "\n",
      "Original tweet : Analysts react to Netflix's strong quarter, with some pointing to a potential bottom for the stock  https://t.co/cQngJsyefD\n",
      "Enriched tweet : Analysts react to Netflix, Netflix, Inc. is an American subscription video on-demand over-the-top streaming service and production company based in Los Gatos, California. Founded in 1997 by Reed Hastings and Marc Randolph in Scotts Valley, California, it offers a film and television series library through distribution deals as well as its own productions, known as Netflix Originals.'s strong quarter, with some pointing to a potential bottom for the stock, In finance, stock (also capital stock) consists of all the shares by which ownership of a corporation or company is divided. (Especially in American English, the word \"stocks\" is also used to refer to shares.) A single share of the stock means fractional ownership of the corporation in proportion to the total number of shares. This typically entitles the shareholder (stockholder) to that fraction of the company's earnings, proceeds from liquidation of assets (after discharge of all senior claims such as secured and unsecured debt), or voting power, often dividing these up in proportion to the amount of money each stockholder has invested. Not all stock is necessarily equal, as certain classes of stock may be issued for example without voting rights, with enhanced voting rights, or with a c  https://t.co/cQngJsyefD\n",
      "Original tweet length : 17\n",
      "Enriched tweet length : 200\n",
      "Annotations :\n",
      "  - Netflix (http://dbpedia.org/resource/Netflix)\n",
      "  - stock (http://dbpedia.org/resource/Stock)\n",
      "\n",
      "Original tweet : Buy Chevron as shares look attractive at these levels, HSBC says  https://t.co/GkDpFvxjEP\n",
      "Enriched tweet : Buy, Buy (Russian: Буй) is a town in Kostroma Oblast, Russia, which stands on the Kostroma River. Population: 25,763 (2010 Census); 27,392 (2002 Census); 32,701 (1989 Census). Chevron, Chevron Corporation is an American multinational energy corporation. The second-largest direct descendant of Standard Oil, and originally known as the Standard Oil Company of California (shortened to Socal or CalSo), it is headquartered in San Ramon, California, and active in more than 180 countries. Chevron is engaged in every aspect of the oil and natural gas industries, including hydrocarbon exploration and production; refining, marketing and transport; chemicals manufacturing and sales; and power generation. as shares look attractive at these levels, HSBC, HSBC Holdings plc is a British multinational universal bank and financial services holding company. It is the largest bank in Europe by total assets ahead of BNP Paribas, with US$2.953 trillion as of December 2021. In 2021, HSBC had $10.8 trillion in assets under custody (AUC) and $4.9 trillion in assets under administration (AUA), respectively. HSBC traces its origin to a hong in British Hong Kong, and its present form was established in London by the Hongkong and Shanghai Banking Corporation to act as a new group holding company in 1991; its name derives from that company's initials. The Hongkong and Shanghai Banking Corporation opened branches in Shanghai in 1865 and was first formally incorporated in 1866. says  https://t.co/GkDpFvxjEP\n",
      "Original tweet length : 12\n",
      "Enriched tweet length : 228\n",
      "Annotations :\n",
      "  - Buy (http://dbpedia.org/resource/Buy,_Kostroma_Oblast)\n",
      "  - Chevron (http://dbpedia.org/resource/Chevron_Corporation)\n",
      "  - HSBC (http://dbpedia.org/resource/HSBC)\n",
      "\n",
      "Original tweet : Morgan Stanley says these global stocks are set for earnings beats — and gives one over 45% upside  https://t.co/GeWxa5YoWr\n",
      "Enriched tweet : Morgan Stanley, Morgan Stanley is an American multinational investment management and financial services company headquartered at 1585 Broadway in Midtown Manhattan, New York City. With offices in more than 41 countries and more than 75,000 employees, the firm's clients include corporations, governments, institutions, and individuals. Morgan Stanley ranked No. 61 in the 2021 Fortune 500 list of the largest United States corporations by total revenue. says these global stocks are set for earnings beats — and gives one over 45% upside  https://t.co/GeWxa5YoWr\n",
      "Original tweet length : 19\n",
      "Enriched tweet length : 82\n",
      "Annotations :\n",
      "  - Morgan Stanley (http://dbpedia.org/resource/Morgan_Stanley)\n",
      "\n",
      "Original tweet : Investing Club: Analysts dropped a bunch of new notes on energy stocks. Here's where we stand on ours  https://t.co/faKcXzyMGZ\n",
      "Enriched tweet : Investing Club: Analysts dropped a bunch of new notes on energy, The energy industry is the totality of all of the industries involved in the production and sale of energy, including fuel extraction, manufacturing, refining and distribution. Modern society consumes large amounts of fuel, and the energy industry is a crucial part of the infrastructure and maintenance of society in almost all countries. In particular, the energy industry comprises: stocks. Here's where we stand on ours  https://t.co/faKcXzyMGZ\n",
      "Original tweet length : 19\n",
      "Enriched tweet length : 77\n",
      "Annotations :\n",
      "  - energy (http://dbpedia.org/resource/Energy_industry)\n",
      "\n",
      "Original tweet : CFRA downgrades Disney, says lack of cash dividend could hurt its streaming platform  https://t.co/KG5V0NDfK4\n",
      "Enriched tweet : CFRA, CFRA is a news/talk formatted radio station in Ottawa, Ontario, Canada, owned by Bell Media. The station broadcasts on the assigned frequency of 580 kHz. CFRA's studios are located in the Bell Media Building on George Street in Downtown Ottawa's ByWard Market, while its 4-tower transmitter array is located near Manotick. downgrades Disney, The Walt Disney Company, commonly known as Disney (/ˈdɪzni/), is an American multinational mass media and entertainment conglomerate headquartered at the Walt Disney Studios complex in Burbank, California. Disney was originally founded on October 16, 1923, by brothers Walt and Roy O. Disney as the Disney Brothers Studio; it also operated under the names the Walt Disney Studio and Walt Disney Productions before changing its name to the Walt Disney Company in 1986. Early on, the company established itself as a leader in the animation industry, with the creation of the widely popular character Mickey Mouse, who is the company's mascot, and the start of animated films., says lack of cash dividend, A dividend is a distribution of profits by a corporation to its shareholders. When a corporation earns a profit or surplus, it is able to pay a portion of the profit as a dividend to shareholders. Any amount not distributed is taken to be re-invested in the business (called retained earnings). The current year profit as well as the retained earnings of previous years are available for distribution; a corporation is usually prohibited from paying a dividend out of its capital. Distribution to shareholders may be in cash (usually a deposit into a bank account) or, if the corporation has a dividend reinvestment plan, the amount can be paid by the issue of further shares or by share repurchase. In some cases, the distribution may be of assets. could hurt its streaming platform  https://t.co/KG5V0NDfK4\n",
      "Original tweet length : 14\n",
      "Enriched tweet length : 300\n",
      "Annotations :\n",
      "  - CFRA (http://dbpedia.org/resource/CFRA)\n",
      "  - Disney (http://dbpedia.org/resource/The_Walt_Disney_Company)\n",
      "  - dividend (http://dbpedia.org/resource/Dividend)\n",
      "\n",
      "Original tweet : Bank of America is more bullish than JPMorgan. Here's what that means for Wall Street and the economy  https://t.co/zHxjgjmwJv\n",
      "Enriched tweet : Bank of America is more bullish, Market sentiment, also known as investor attention, is the general prevailing attitude of investors as to anticipated price development in a market. This attitude is the accumulation of a variety of fundamental and technical factors, including price history, economic reports, seasonal factors, and national and world events. If investors expect upward price movement in the stock market, the sentiment is said to be bullish. On the contrary, if the market sentiment is bearish, most investors expect downward price movement. Market participants who maintain a static sentiment, regardless of market conditions, are described as permabulls and permabears respectively. Market sentiment is usually considered as a contrarian indicator: what most people expect is a good thing to bet against. Market se than JPMorgan. Here's what that means for Wall Street, Wall Street is an eight-block-long street in the Financial District of Lower Manhattan in New York City. It runs between Broadway in the west to South Street and the East River in the east. The term \"Wall Street\" has become a metonym for the financial markets of the United States as a whole, the American financial services industry, New York–based financial interests, or the Financial District itself. Anchored by Wall Street, New York has been described as the world's principal financial center. and the economy  https://t.co/zHxjgjmwJv\n",
      "Original tweet length : 19\n",
      "Enriched tweet length : 220\n",
      "Annotations :\n",
      "  - bullish (http://dbpedia.org/resource/Market_sentiment)\n",
      "  - Wall Street (http://dbpedia.org/resource/Wall_Street)\n",
      "\n",
      "Original tweet : Here are Tuesday's biggest analyst calls: Meta, Chipotle, Apple, Tesla, Exxon, Netflix, Sunrun &amp; more  https://t.co/xgyzBGpBvc\n",
      "Enriched tweet : Here are Tuesday's biggest analyst calls: Meta, Meta Platforms, Inc., doing business as Meta and formerly named Facebook, Inc., and TheFacebook, Inc., is an American multinational technology conglomerate based in Menlo Park, California. The company owns Facebook, Instagram, and WhatsApp, among other products and services. Meta was once one of the world's most valuable companies, but as of 2022 is not one of the top twenty biggest companies in the United States. It is considered one of the Big Five American information technology companies, alongside Alphabet, Amazon, Apple, Apple Inc. is an American multinational technology company headquartered in Cupertino, California, United States. Apple is the largest technology company by revenue (totaling US$365.8 billion in 2021) and, as of June 2022, is the world's biggest company by market capitalization, the fourth-largest personal computer vendor by unit sales and second-largest mobile phone manufacturer. It is one of the Big Five American information technology companies, alongside Alphabet, Amazon, Meta, and Microsoft., and Microsoft. As of 2022, it is the least profitable of the five., Chipotle, Chipotle Mexican Grill, Inc. (/tʃɪˈpoʊtleɪ/, chih-POHT-lay), often known simply as Chipotle, is an American chain of fast casual restaurants specializing in bowls, tacos and Mission burritos made to order in front of the customer. Chipotle operates restaurants in the United States, United Kingdom, Canada, Germany, and France. Its name derives from chipotle, the Nahuatl name for a smoked and dried jalapeño chili pepper., Apple, Apple Inc. is an American multinational technology company headquartered in Cupertino, California, United States. Apple is the largest technology company by revenue (totaling US$365.8 billion in 2021) and, as of June 2022, is the world's biggest company by market capitalization, the fourth-largest personal computer vendor by unit sales and second-largest mobile phone manufacturer. It is one of the Big Five American information technology companies, alongside Alphabet, Amazon, Meta, and Microsoft., Tesla, The Tesla Model 3 is a compact executive sedan that is battery powered and produced by Tesla. Limited production of the Model 3 began in mid-2017, with the first production vehicle rolling off the assembly line on July 7, 2017. The official launch and delivery of the first 30 cars took place on July 28. The base Model 3 delivers an EPA-rated all-electric range of 272 miles (438 km) and the Long Range version delivers 358 miles (576 km). According to Tesla, the Model 3 carries full self-driving hardware, with periodic software updates adding functionality., Exxon, Netflix, Netflix, Inc. is an American subscription video on-demand over-the-top streaming service and production company based in Los Gatos, California. Founded in 1997 by Reed Hastings and Marc Randolph in Scotts Valley, California, it offers a film and television series library through distribution deals as well as its own productions, known as Netflix Originals., Sunrun, Sunrun is an American provider of photovoltaic systems and battery energy storage products, primarily for residential customers. The company was established in 2007 and is headquartered in San Francisco, California. In 2021, the company installed solar systems capable of generating 792 megawatts of power, and in the history of the company, had installed a total of 4.68 gigawatts of power for over 660 thousand customers. &amp; more  https://t.co/xgyzBGpBvc\n",
      "Original tweet length : 16\n",
      "Enriched tweet length : 526\n",
      "Annotations :\n",
      "  - Meta (http://dbpedia.org/resource/Meta_Platforms)\n",
      "  - Chipotle (http://dbpedia.org/resource/Chipotle_Mexican_Grill)\n",
      "  - Apple (http://dbpedia.org/resource/Apple_Inc.)\n",
      "  - Tesla (http://dbpedia.org/resource/Tesla_Model_3)\n",
      "  - Exxon (http://dbpedia.org/resource/Exxon)\n",
      "  - Netflix (http://dbpedia.org/resource/Netflix)\n",
      "  - Sunrun (http://dbpedia.org/resource/Sunrun)\n",
      "\n",
      "Original tweet : Citi cuts Microsoft price target, citing foreign exchange headwinds  https://t.co/ZsnMboYnGw\n",
      "Enriched tweet : Citi cuts Microsoft, Microsoft Corporation is an American multinational technology corporation producing computer software, consumer electronics, personal computers, and related services headquartered at the Microsoft Redmond campus located in Redmond, Washington, United States. Its best-known software products are the Windows line of operating systems, the Microsoft Office suite, and the Internet Explorer and Edge web browsers. Its flagship hardware products are the Xbox video game consoles and the Microsoft Surface lineup of touchscreen personal computers. Microsoft ranked No. 21 in the 2020 Fortune 500 rankings of the largest United States corporations by total revenue; it was the world's largest software maker by revenue as of 2019. It is one of the Big Five American information technology companies, along price target, citing foreign exchange, The foreign exchange market (Forex, FX, or currency market) is a global decentralized or over-the-counter (OTC) market for the trading of currencies. This market determines foreign exchange rates for every currency. It includes all aspects of buying, selling and exchanging currencies at current or determined prices. In terms of trading volume, it is by far the largest market in the world, followed by the credit market. In a typical foreign exchange transaction, a party purchases some quantity of one currency by paying with some quantity of another currency. headwinds  https://t.co/ZsnMboYnGw\n",
      "Original tweet length : 10\n",
      "Enriched tweet length : 213\n",
      "Annotations :\n",
      "  - Microsoft (http://dbpedia.org/resource/Microsoft)\n",
      "  - foreign exchange (http://dbpedia.org/resource/Foreign_exchange_market)\n",
      "\n",
      "Original tweet : Exchange operator Cboe is a buy as recession chances rise, Morgan Stanley says  https://t.co/Z51h67lv4O\n",
      "Enriched tweet : Exchange operator Cboe, The Chicago Board Options Exchange (CBOE), located at 433 West Van Buren Street in Chicago, is the largest U.S. options exchange with an annual trading volume of around 1.27 billion at the end of 2014. CBOE offers options on over 2,200 companies, 22 stock indices, and 140 exchange-traded funds (ETFs). is a buy as recession, In economics, a recession is a business cycle contraction when there is a general decline in economic activity. Recessions generally occur when there is a widespread drop in spending (an adverse demand shock). This may be triggered by various events, such as a financial crisis, an external trade shock, an adverse supply shock, the bursting of an economic bubble, or a large-scale anthropogenic or natural disaster (e.g. a pandemic). chances rise, Morgan Stanley, Morgan Stanley is an American multinational investment management and financial services company headquartered at 1585 Broadway in Midtown Manhattan, New York City. With offices in more than 41 countries and more than 75,000 employees, the firm's clients include corporations, governments, institutions, and individuals. Morgan Stanley ranked No. 61 in the 2021 Fortune 500 list of the largest United States corporations by total revenue. says  https://t.co/Z51h67lv4O\n",
      "Original tweet length : 14\n",
      "Enriched tweet length : 196\n",
      "Annotations :\n",
      "  - Cboe (http://dbpedia.org/resource/Chicago_Board_Options_Exchange)\n",
      "  - recession (http://dbpedia.org/resource/Recession)\n",
      "  - Morgan Stanley (http://dbpedia.org/resource/Morgan_Stanley)\n",
      "\n",
      "Original tweet : Strong earnings may not be enough to bring Netflix out of its funk, Credit Suisse says  https://t.co/99YkU9j8X2\n",
      "Enriched tweet : Strong earnings may not be enough to bring Netflix, Netflix, Inc. is an American subscription video on-demand over-the-top streaming service and production company based in Los Gatos, California. Founded in 1997 by Reed Hastings and Marc Randolph in Scotts Valley, California, it offers a film and television series library through distribution deals as well as its own productions, known as Netflix Originals. out of its funk, Funk is a music genre that originated in African American communities in the mid-1960s when musicians created a rhythmic, danceable new form of music through a mixture of various music genres that were popular among African Americans in the mid-20th century. It de-emphasizes melody and chord progressions and focuses on a strong rhythmic groove of a bassline played by an electric bassist and a drum part played by a percussionist, often at slower tempos than other popular music. Funk typically consists of a complex percussive groove with rhythm instruments playing interlocking grooves that create a \"hypnotic\" and \"danceable\" feel. Funk uses the same richly colored extended chords found in bebop jazz, such as minor chords with added sevenths and elevenths, or dominant seventh chords with alte, Credit Suisse, Credit Suisse Group AG is a global investment bank and financial services firm founded and based in Switzerland. Headquartered in Zürich, it maintains offices in all major financial centers around the world and is one of the nine global \"Bulge Bracket\" banks providing services in investment banking, private banking, asset management, and shared services. It is known for strict bank–client confidentiality and banking secrecy. The Financial Stability Board considers it to be a global systemically important bank. Credit Suisse is also primary dealer and Forex counterparty of the FED. says  https://t.co/99YkU9j8X2\n",
      "Original tweet length : 17\n",
      "Enriched tweet length : 285\n",
      "Annotations :\n",
      "  - Netflix (http://dbpedia.org/resource/Netflix)\n",
      "  - funk (http://dbpedia.org/resource/Funk)\n",
      "  - Credit Suisse (http://dbpedia.org/resource/Credit_Suisse)\n",
      "\n",
      "Original tweet : Tesla's bitcoin holdings could result in a $460 million hit for the carmaker, Barclays says  https://t.co/J50bSXAsf6\n",
      "Enriched tweet : Tesla, The Tesla Model 3 is a compact executive sedan that is battery powered and produced by Tesla. Limited production of the Model 3 began in mid-2017, with the first production vehicle rolling off the assembly line on July 7, 2017. The official launch and delivery of the first 30 cars took place on July 28. The base Model 3 delivers an EPA-rated all-electric range of 272 miles (438 km) and the Long Range version delivers 358 miles (576 km). According to Tesla, the Model 3 carries full self-driving hardware, with periodic software updates adding functionality.'s bitcoin, Bitcoin (abbreviation: BTC; sign: ₿) is a decentralized digital currency that can be transferred on the peer-to-peer bitcoin network. Bitcoin transactions are verified by network nodes through cryptography and recorded in a public distributed ledger called a blockchain. The cryptocurrency was invented in 2008 by an unknown person or group of people using the name Satoshi Nakamoto. The currency began use in 2009, when its implementation was released as open-source software. The word bitcoin was defined in a white paper published on 31 October 2008. It is a compound of the words bit and coin. holdings could result in a $460 million hit for the carmaker, Barclays says  https://t.co/J50bSXAsf6\n",
      "Original tweet length : 16\n",
      "Enriched tweet length : 206\n",
      "Annotations :\n",
      "  - Tesla (http://dbpedia.org/resource/Tesla_Model_3)\n",
      "  - bitcoin (http://dbpedia.org/resource/Bitcoin)\n",
      "\n",
      "Original tweet : Morningstar strategist says two FAANG stocks look incredibly cheap right now  https://t.co/DKr5Q5o0ei\n",
      "Enriched tweet : Morningstar, Morningstar, Inc. is an American financial services firm headquartered in Chicago, Illinois and was founded by Joe Mansueto in 1984. It provides an array of investment research and investment management services. The firm also provides software and data platforms for investment professionals, including \"Morningstar Direct\" and \"Morningstar Advisor Workstation\". strategist says two FAANG, Big Tech, also known as the Tech Giants, is a grouping of the most dominant companies in the information technology industry, mostly centered in the United States. The term also can refer to the four or five largest American tech companies, sometimes referred to as the Big Four or Big Five, which presently consist of Alphabet (Google), Amazon, Apple, and Meta (Facebook)—with Microsoft completing the Big Five. stocks look incredibly cheap right now  https://t.co/DKr5Q5o0ei\n",
      "Original tweet length : 12\n",
      "Enriched tweet length : 128\n",
      "Annotations :\n",
      "  - Morningstar (http://dbpedia.org/resource/Morningstar,_Inc.)\n",
      "  - FAANG (http://dbpedia.org/resource/Big_Tech)\n",
      "\n",
      "Original tweet : Analyst call of the day for @CNBCPro subscribers: Citi added a positive catalyst watch to Delta and said it sees “upside risk.”  Subscribe to see the analyst calls of the day curated by CNBC Pro.  https://t.co/eAYz0ec9dO\n",
      "Enriched tweet : Analyst call of the day for @CNBC, CNBC (formerly Consumer News and Business Channel) is an American basic cable business news channel. It provides business news programming on weekdays from 5:00 a.m. to 7:00 p.m., Eastern Time, while broadcasting talk shows, investigative reports, documentaries, infomercials, reality shows, and other programs at all other times. Along with Fox Business and Bloomberg Television, it is one of the three major business news channels. It also operates a website and mobile apps, whereby users can watch the channel via streaming media, and which provide some content that is only accessible to paid subscribers. CNBC content is available on demand on smart speakers including Amazon Echo devices with Amazon Alexa, Google Home and app devices with Google Assistant, and on Apple Siri voice interfaces Pro subscribers: Citi added a positive catalyst, Catalysis (/kəˈtæləsɪs/) is the process of increasing the rate of a chemical reaction by adding a substance known as a catalyst (/ˈkætəlɪst/). Catalysts are not consumed in the reaction and remain unchanged after it. If the reaction is rapid and the catalyst recycles quickly, very small amounts of catalyst often suffice; mixing, surface area, and temperature are important factors in reaction rate. Catalysts generally react with one or more reactants to form intermediates that subsequently give the final reaction product, in the process of regenerating the catalyst. watch to Delta and said it sees “upside risk.”  Subscribe to see the analyst calls of the day curated by CNBC, CNBC (formerly Consumer News and Business Channel) is an American basic cable business news channel. It provides business news programming on weekdays from 5:00 a.m. to 7:00 p.m., Eastern Time, while broadcasting talk shows, investigative reports, documentaries, infomercials, reality shows, and other programs at all other times. Along with Fox Business and Bloomberg Television, it is one of the three major business news channels. It also operates a website and mobile apps, whereby users can watch the channel via streaming media, and which provide some content that is only accessible to paid subscribers. CNBC content is available on demand on smart speakers including Amazon Echo devices with Amazon Alexa, Google Home and app devices with Google Assistant, and on Apple Siri voice interfaces  Pro.  https://t.co/eAYz0ec9dO\n",
      "Original tweet length : 36\n",
      "Enriched tweet length : 370\n",
      "Annotations :\n",
      "  - catalyst (http://dbpedia.org/resource/Catalysis)\n",
      "  - CNBC (http://dbpedia.org/resource/CNBC)\n",
      "\n",
      "Original tweet : Apple's near-term future looks murky as consumer spending slows, Bernstein says  https://t.co/21T9LREta4\n",
      "Enriched tweet : Apple, Apple Inc. is an American multinational technology company headquartered in Cupertino, California, United States. Apple is the largest technology company by revenue (totaling US$365.8 billion in 2021) and, as of June 2022, is the world's biggest company by market capitalization, the fourth-largest personal computer vendor by unit sales and second-largest mobile phone manufacturer. It is one of the Big Five American information technology companies, alongside Alphabet, Amazon, Meta, and Microsoft.'s near-term future looks murky as consumer spending, Consumer spending is the total money spent on final goods and services by individuals and households. There are two components of consumer spending: induced consumption (which is affected by the level of income) and autonomous consumption (which is not). slows, Bernstein, Leonard Bernstein (/ˈbɜːrnstaɪn/ BURN-styne; August 25, 1918 – October 14, 1990) was an American conductor, composer, pianist, music educator, author, and humanitarian. Considered to be one of the most important conductors of his time, he was the first American conductor to receive international acclaim. According to music critic Donal Henahan, he was \"one of the most prodigiously talented and successful musicians in American history\". Bernstein was the recipient of many honors, including seven Emmy Awards, two Tony Awards, sixteen Grammy Awards including the Lifetime Achievement Award, and the Kennedy Center Honor. says  https://t.co/21T9LREta4\n",
      "Original tweet length : 12\n",
      "Enriched tweet length : 212\n",
      "Annotations :\n",
      "  - Apple (http://dbpedia.org/resource/Apple_Inc.)\n",
      "  - consumer spending (http://dbpedia.org/resource/Consumer_spending)\n",
      "  - Bernstein (http://dbpedia.org/resource/Leonard_Bernstein)\n",
      "\n",
      "Original tweet : Buy Tesla in the short term to capture potential upside from earnings, says Deutsche Bank  https://t.co/Q4MqoSVmXJ\n",
      "Enriched tweet : Buy, Buy (Russian: Буй) is a town in Kostroma Oblast, Russia, which stands on the Kostroma River. Population: 25,763 (2010 Census); 27,392 (2002 Census); 32,701 (1989 Census). Tesla in the short term to capture potential upside from earnings, says Deutsche Bank, Deutsche Bank AG (German pronunciation: [ˈdɔʏtʃə ˈbaŋk ʔaːˈɡeː]) is a German multinational investment bank and financial services company headquartered in Frankfurt, Germany, and dual-listed on the Frankfurt Stock Exchange and the New York Stock Exchange. The company is a universal bank with four major divisions: Investment Bank, Corporate Bank, Private Bank and Asset Management (DWS). Its investment banking operations often command substantial deal flow.  https://t.co/Q4MqoSVmXJ\n",
      "Original tweet length : 16\n",
      "Enriched tweet length : 106\n",
      "Annotations :\n",
      "  - Buy (http://dbpedia.org/resource/Buy,_Kostroma_Oblast)\n",
      "  - Deutsche Bank (http://dbpedia.org/resource/Deutsche_Bank)\n",
      "\n",
      "Original tweet : Here are Monday's biggest analyst calls of the day: Tesla, Apple, Yum, Delta, Fox, Netflix &amp; more  https://t.co/Pt2oqzwPvB\n",
      "Enriched tweet : Here are Monday's biggest analyst calls of the day: Tesla, The Tesla Model 3 is a compact executive sedan that is battery powered and produced by Tesla. Limited production of the Model 3 began in mid-2017, with the first production vehicle rolling off the assembly line on July 7, 2017. The official launch and delivery of the first 30 cars took place on July 28. The base Model 3 delivers an EPA-rated all-electric range of 272 miles (438 km) and the Long Range version delivers 358 miles (576 km). According to Tesla, the Model 3 carries full self-driving hardware, with periodic software updates adding functionality., Apple, Apple Inc. is an American multinational technology company headquartered in Cupertino, California, United States. Apple is the largest technology company by revenue (totaling US$365.8 billion in 2021) and, as of June 2022, is the world's biggest company by market capitalization, the fourth-largest personal computer vendor by unit sales and second-largest mobile phone manufacturer. It is one of the Big Five American information technology companies, alongside Alphabet, Amazon, Meta, and Microsoft., Yum, Delta, Delta Air Lines, Inc., typically referred to as Delta, is one of the major airlines of the United States and a legacy carrier. One of the world's oldest airlines in operation, Delta is headquartered in Atlanta, Georgia. The airline, along with its subsidiaries and regional affiliates, including Delta Connection, operates over 5,400 flights daily and serves 325 destinations in 52 countries on six continents. Delta is a founding member of the SkyTeam airline alliance., Fox, Netflix, Netflix, Inc. is an American subscription video on-demand over-the-top streaming service and production company based in Los Gatos, California. Founded in 1997 by Reed Hastings and Marc Randolph in Scotts Valley, California, it offers a film and television series library through distribution deals as well as its own productions, known as Netflix Originals. &amp; more  https://t.co/Pt2oqzwPvB\n",
      "Original tweet length : 18\n",
      "Enriched tweet length : 310\n",
      "Annotations :\n",
      "  - Tesla (http://dbpedia.org/resource/Tesla_Model_3)\n",
      "  - Apple (http://dbpedia.org/resource/Apple_Inc.)\n",
      "  - Delta (http://dbpedia.org/resource/Delta_Air_Lines)\n",
      "  - Fox (http://dbpedia.org/resource/Major_League_Baseball_on_Fox)\n",
      "  - Netflix (http://dbpedia.org/resource/Netflix)\n",
      "\n",
      "Original tweet : Deutsche Bank downgrades General Motors, cites looming pricing risks to automakers  https://t.co/40yhalOoOU\n",
      "Enriched tweet : Deutsche Bank, Deutsche Bank AG (German pronunciation: [ˈdɔʏtʃə ˈbaŋk ʔaːˈɡeː]) is a German multinational investment bank and financial services company headquartered in Frankfurt, Germany, and dual-listed on the Frankfurt Stock Exchange and the New York Stock Exchange. The company is a universal bank with four major divisions: Investment Bank, Corporate Bank, Private Bank and Asset Management (DWS). Its investment banking operations often command substantial deal flow. downgrades General Motors, The General Motors Company (GM) is an American multinational automotive manufacturing company headquartered in Detroit, Michigan, United States. It is the largest automaker in the United States and was the largest in the world for 77 years before losing the top spot to Toyota in 2008. The company traces itself to a holding company for Buick established on September 16, 1908, by William C. Durant, the largest seller of horse-drawn vehicles at the time. The current entity was established in 2009 after the General Motors Chapter 11 reorganization., cites looming pricing risks to automakers  https://t.co/40yhalOoOU\n",
      "Original tweet length : 12\n",
      "Enriched tweet length : 164\n",
      "Annotations :\n",
      "  - Deutsche Bank (http://dbpedia.org/resource/Deutsche_Bank)\n",
      "  - General Motors (http://dbpedia.org/resource/General_Motors)\n",
      "\n",
      "Original tweet : Morgan Stanley downgrades Paramount and Fox, warns of possible 'streaming recession'  https://t.co/apofBK4yVZ\n",
      "Enriched tweet : Morgan Stanley, Morgan Stanley is an American multinational investment management and financial services company headquartered at 1585 Broadway in Midtown Manhattan, New York City. With offices in more than 41 countries and more than 75,000 employees, the firm's clients include corporations, governments, institutions, and individuals. Morgan Stanley ranked No. 61 in the 2021 Fortune 500 list of the largest United States corporations by total revenue. downgrades Paramount, Paramount Pictures Corporation is an American film and television production and distribution company and the main namesake division of Paramount Global (formerly ViacomCBS). It is the fifth-oldest film studio in the world, the second-oldest film studio in the United States (behind Universal Pictures), and the sole member of the \"Big Five\" film studios located within the city limits of Los Angeles. Paramount Pictures is a member of the Motion Picture Association (MPA). and Fox, The Fox Broadcasting Company, commonly known simply as Fox and stylized in all caps as FOX, is an American commercial broadcast television network owned by Fox Corporation and headquartered in New York City, with master control operations and additional offices at the Fox Network Center in Los Angeles and the Fox Media Center in Tempe. Launched as a competitor to the Big Three television networks (ABC, CBS, and NBC) on October 9, 1986, Fox went on to become the most successful attempt at a fourth television network. It was the highest-rated free-to-air network in the 18–49 demographic from 2004 to 2012 and again in 2020, and was the most-watched American television network in total viewership during the 2007–08 season., warns, The Varini, Warni or Warini were one or more Germanic peoples who originally lived in what is now northeastern Germany, near the Baltic sea. They are first named in the Roman era, and appear to have survived into the Middle Ages. It is proposed that in Old English they were called Werns or Warns. of possible 'streaming recession, In economics, a recession is a business cycle contraction when there is a general decline in economic activity. Recessions generally occur when there is a widespread drop in spending (an adverse demand shock). This may be triggered by various events, such as a financial crisis, an external trade shock, an adverse supply shock, the bursting of an economic bubble, or a large-scale anthropogenic or natural disaster (e.g. a pandemic).'  https://t.co/apofBK4yVZ\n",
      "Original tweet length : 12\n",
      "Enriched tweet length : 389\n",
      "Annotations :\n",
      "  - Morgan Stanley (http://dbpedia.org/resource/Morgan_Stanley)\n",
      "  - Paramount (http://dbpedia.org/resource/Paramount_Pictures)\n",
      "  - Fox (http://dbpedia.org/resource/Fox_Broadcasting_Company)\n",
      "  - warns (http://dbpedia.org/resource/Warini)\n",
      "  - recession (http://dbpedia.org/resource/Recession)\n",
      "\n",
      "Original tweet : Buy Yum Brands to defend against a slowdown in consumer spending, Goldman Sachs says  https://t.co/88zGuVwEXi\n",
      "Enriched tweet : Buy, Buy (Russian: Буй) is a town in Kostroma Oblast, Russia, which stands on the Kostroma River. Population: 25,763 (2010 Census); 27,392 (2002 Census); 32,701 (1989 Census). Yum Brands, Yum! Brands, Inc. (or Yum!), formerly Tricon Global Restaurants, Inc., is an American fast food corporation listed on the Fortune 1000. Yum! operates the brands KFC, Pizza Hut, Taco Bell, and The Habit Burger Grill, except in China, where the brands are operated by a separate company, Yum China. Yum! previously also owned Long John Silver's and A&W Restaurants. to defend against a slowdown in consumer spending, Consumer spending is the total money spent on final goods and services by individuals and households. There are two components of consumer spending: induced consumption (which is affected by the level of income) and autonomous consumption (which is not)., Goldman Sachs, Goldman Sachs (/ˈsæks/) is an American multinational investment bank and financial services company. Founded in 1869, Goldman Sachs is headquartered at 200 West Street in Lower Manhattan, with regional headquarters in London, Warsaw, Bangalore, Hong Kong, Tokyo, Dallas and Salt Lake City, and additional offices in other international financial centers. Goldman Sachs is the second largest investment bank in the world by revenue and is ranked 57th on the Fortune 500 list of the largest United States corporations by total revenue. It is considered a systemically important financial institution by the Financial Stability Board. says  https://t.co/88zGuVwEXi\n",
      "Original tweet length : 15\n",
      "Enriched tweet length : 233\n",
      "Annotations :\n",
      "  - Buy (http://dbpedia.org/resource/Buy,_Kostroma_Oblast)\n",
      "  - Yum Brands (http://dbpedia.org/resource/Yum!_Brands)\n",
      "  - consumer spending (http://dbpedia.org/resource/Consumer_spending)\n",
      "  - Goldman Sachs (http://dbpedia.org/resource/Goldman_Sachs)\n",
      "\n",
      "Original tweet : Analysts reveal the top stocks with 'significant upside potential' heading into earnings  https://t.co/lfaLK3nwAz\n",
      "Enriched tweet : Analysts reveal the top stocks with 'significant upside potential' heading into earnings  https://t.co/lfaLK3nwAz\n",
      "Original tweet length : 13\n",
      "Enriched tweet length : 13\n",
      "Annotations :\n",
      "\n",
      "Original tweet : Argus downgrades Delta citing weak outlook following second-quarter earnings  https://t.co/MuWXm66fAo\n",
      "Enriched tweet : Argus, Argus or Argos Panoptes (Ancient Greek: Ἄργος Πανόπτης, All-seeing Argos) is a many-eyed giant in Greek mythology. downgrades Delta, Delta Air Lines, Inc., typically referred to as Delta, is one of the major airlines of the United States and a legacy carrier. One of the world's oldest airlines in operation, Delta is headquartered in Atlanta, Georgia. The airline, along with its subsidiaries and regional affiliates, including Delta Connection, operates over 5,400 flights daily and serves 325 destinations in 52 countries on six continents. Delta is a founding member of the SkyTeam airline alliance. citing weak outlook following second-quarter earnings  https://t.co/MuWXm66fAo\n",
      "Original tweet length : 10\n",
      "Enriched tweet length : 101\n",
      "Annotations :\n",
      "  - Argus (http://dbpedia.org/resource/Argus_Panoptes)\n",
      "  - Delta (http://dbpedia.org/resource/Delta_Air_Lines)\n",
      "\n",
      "Original tweet : Analyst call of the day for @CNBCPro subscribers: Bank of America kept its buy rating on shares of Nvidia, but said any weakness in the stock could impact other semiconductor companies.  Subscribe to see the analyst calls of the day curated by CNBC Pro.  https://t.co/lHRN17009h\n",
      "Enriched tweet : Analyst call of the day for @CNBC, CNBC (formerly Consumer News and Business Channel) is an American basic cable business news channel. It provides business news programming on weekdays from 5:00 a.m. to 7:00 p.m., Eastern Time, while broadcasting talk shows, investigative reports, documentaries, infomercials, reality shows, and other programs at all other times. Along with Fox Business and Bloomberg Television, it is one of the three major business news channels. It also operates a website and mobile apps, whereby users can watch the channel via streaming media, and which provide some content that is only accessible to paid subscribers. CNBC content is available on demand on smart speakers including Amazon Echo devices with Amazon Alexa, Google Home and app devices with Google Assistant, and on Apple Siri voice interfaces Pro subscribers: Bank of America kept its buy rating on shares of Nvidia, Nvidia Corporation (/ɛnˈvɪdiə/ en-VID-ee-ə) is an American multinational technology company incorporated in Delaware and based in Santa Clara, California. It is a software and fabless company which designs graphics processing units (GPUs), application programming interface (APIs) for data science and high-performance computing as well as system on a chip units (SoCs) for the mobile computing and automotive market. Nvidia is a global leader in artificial intelligence hardware and software. Its professional line of GPUs are used in workstations for applications in such fields as architecture, engineering and construction, media and entertainment, automotive, scientific research, and manufacturing design., but said any weakness in the stock, In finance, stock (also capital stock) consists of all the shares by which ownership of a corporation or company is divided. (Especially in American English, the word \"stocks\" is also used to refer to shares.) A single share of the stock means fractional ownership of the corporation in proportion to the total number of shares. This typically entitles the shareholder (stockholder) to that fraction of the company's earnings, proceeds from liquidation of assets (after discharge of all senior claims such as secured and unsecured debt), or voting power, often dividing these up in proportion to the amount of money each stockholder has invested. Not all stock is necessarily equal, as certain classes of stock may be issued for example without voting rights, with enhanced voting rights, or with a c could impact other semiconductor, A semiconductor is a material, which has an electrical conductivity value falling between that of a conductor, such as copper, and an insulator, such as glass. Its resistivity falls as its temperature rises; metals behave in the opposite way. Its conducting properties may be altered in useful ways by introducing impurities (\"doping\") into the crystal structure. When two differently doped regions exist in the same crystal, a semiconductor junction is created. The behavior of charge carriers, which include electrons, ions, and electron holes, at these junctions is the basis of diodes, transistors, and most modern electronics. Some examples of semiconductors are silicon, germanium, gallium arsenide, and elements near the so-called \"metalloid staircase\" on the periodic table. After silicon, ga companies.  Subscribe to see the analyst calls of the day curated by CNBC, CNBC (formerly Consumer News and Business Channel) is an American basic cable business news channel. It provides business news programming on weekdays from 5:00 a.m. to 7:00 p.m., Eastern Time, while broadcasting talk shows, investigative reports, documentaries, infomercials, reality shows, and other programs at all other times. Along with Fox Business and Bloomberg Television, it is one of the three major business news channels. It also operates a website and mobile apps, whereby users can watch the channel via streaming media, and which provide some content that is only accessible to paid subscribers. CNBC content is available on demand on smart speakers including Amazon Echo devices with Amazon Alexa, Google Home and app devices with Google Assistant, and on Apple Siri voice interfaces  Pro.  https://t.co/lHRN17009h\n",
      "Original tweet length : 45\n",
      "Enriched tweet length : 638\n",
      "Annotations :\n",
      "  - Nvidia (http://dbpedia.org/resource/Nvidia)\n",
      "  - stock (http://dbpedia.org/resource/Stock)\n",
      "  - semiconductor (http://dbpedia.org/resource/Semiconductor)\n",
      "  - CNBC (http://dbpedia.org/resource/CNBC)\n",
      "\n",
      "Original tweet : Here are Friday's biggest analyst calls of the day: McDonald's, Netflix, Amazon, Nvidia, Visa &amp; more  https://t.co/DyiE4GH2LD\n",
      "Enriched tweet : Here are Friday's biggest analyst calls of the day: McDonald's, Netflix, Netflix, Inc. is an American subscription video on-demand over-the-top streaming service and production company based in Los Gatos, California. Founded in 1997 by Reed Hastings and Marc Randolph in Scotts Valley, California, it offers a film and television series library through distribution deals as well as its own productions, known as Netflix Originals., Amazon, Amazon Prime Video, also known simply as Prime Video, is an American subscription video on-demand over-the-top streaming and rental service of Amazon offered as a standalone service or as part of Amazon's Prime subscription. The service primarily distributes films and television series produced by Amazon Studios and MGM Holdings or licensed to Amazon, as Amazon Originals, with the service also hosting content from other providers, content add-ons, live sporting events, and video rental and purchasing services., Nvidia, Nvidia Corporation (/ɛnˈvɪdiə/ en-VID-ee-ə) is an American multinational technology company incorporated in Delaware and based in Santa Clara, California. It is a software and fabless company which designs graphics processing units (GPUs), application programming interface (APIs) for data science and high-performance computing as well as system on a chip units (SoCs) for the mobile computing and automotive market. Nvidia is a global leader in artificial intelligence hardware and software. Its professional line of GPUs are used in workstations for applications in such fields as architecture, engineering and construction, media and entertainment, automotive, scientific research, and manufacturing design., Visa, Visa Inc. (/ˈviːzə, ˈviːsə/; stylized as VISA) is an American multinational financial services corporation headquartered in San Francisco, California. It facilitates electronic funds transfers throughout the world, most commonly through Visa-branded credit cards, debit cards and prepaid cards. Visa is one of the world's most valuable companies. &amp; more  https://t.co/DyiE4GH2LD\n",
      "Original tweet length : 17\n",
      "Enriched tweet length : 290\n",
      "Annotations :\n",
      "  - Netflix (http://dbpedia.org/resource/Netflix)\n",
      "  - Amazon (http://dbpedia.org/resource/Amazon_Prime_Video)\n",
      "  - Nvidia (http://dbpedia.org/resource/Nvidia)\n",
      "  - Visa (http://dbpedia.org/resource/Visa_Inc.)\n",
      "\n",
      "Original tweet : Bernstein calls medtech company Dexcom a clear buy, citing long-term runway for diabetes management  https://t.co/y3RmrIhMwz\n",
      "Enriched tweet : Bernstein, Leonard Bernstein (/ˈbɜːrnstaɪn/ BURN-styne; August 25, 1918 – October 14, 1990) was an American conductor, composer, pianist, music educator, author, and humanitarian. Considered to be one of the most important conductors of his time, he was the first American conductor to receive international acclaim. According to music critic Donal Henahan, he was \"one of the most prodigiously talented and successful musicians in American history\". Bernstein was the recipient of many honors, including seven Emmy Awards, two Tony Awards, sixteen Grammy Awards including the Lifetime Achievement Award, and the Kennedy Center Honor. calls medtech, Health technology is defined by the World Health Organization as the \"application of organized knowledge and skills in the form of devices, medicines, vaccines, procedures, and systems developed to solve a health problem and improve quality of lives\". This includes pharmaceuticals, devices, procedures, and organizational systems used in the healthcare industry, as well as computer-supported information systems. In the United States, these technologies involve standardized physical objects, as well as traditional and designed social means and methods to treat or care for patients. company Dexcom, DexCom, Inc. is a company that develops, manufactures, produces, and distributes continuous glucose monitoring (CGM) systems for diabetes, Diabetes, also known as diabetes mellitus, is a group of metabolic disorders characterized by a high blood sugar level (hyperglycemia) over a prolonged period of time. Symptoms often include frequent urination, increased thirst and increased appetite. If left untreated, diabetes can cause many health complications. Acute complications can include diabetic ketoacidosis, hyperosmolar hyperglycemic state, or death. Serious long-term complications include cardiovascular disease, stroke, chronic kidney disease, foot ulcers, damage to the nerves, damage to the eyes, and cognitive impairment. management. It operates internationally with headquarters in San Diego, California, and has a manufacturing facility in Mesa, Arizona and Batu Kawan in Malaysia. a clear buy, citing long-term runway, According to the International Civil Aviation Organization (ICAO), a runway is a \"defined rectangular area on a land aerodrome prepared for the landing and takeoff of aircraft\". Runways may be a man-made surface (often asphalt, concrete, or a mixture of both) or a natural surface (grass, dirt, gravel, ice, sand or salt). Runways, as well as taxiways and ramps, are sometimes referred to as \"tarmac\", though very few runways are built using tarmac. Takeoff and landing areas defined on the surface of water for seaplanes are generally referred to as waterways. Runway lengths are now commonly given in meters worldwide, except in North America where feet are commonly used. for diabetes, Diabetes, also known as diabetes mellitus, is a group of metabolic disorders characterized by a high blood sugar level (hyperglycemia) over a prolonged period of time. Symptoms often include frequent urination, increased thirst and increased appetite. If left untreated, diabetes can cause many health complications. Acute complications can include diabetic ketoacidosis, hyperosmolar hyperglycemic state, or death. Serious long-term complications include cardiovascular disease, stroke, chronic kidney disease, foot ulcers, damage to the nerves, damage to the eyes, and cognitive impairment. management  https://t.co/y3RmrIhMwz\n",
      "Original tweet length : 15\n",
      "Enriched tweet length : 497\n",
      "Annotations :\n",
      "  - Bernstein (http://dbpedia.org/resource/Leonard_Bernstein)\n",
      "  - medtech (http://dbpedia.org/resource/Health_technology)\n",
      "  - Dexcom (http://dbpedia.org/resource/Dexcom)\n",
      "  - runway (http://dbpedia.org/resource/Runway)\n",
      "  - diabetes (http://dbpedia.org/resource/Diabetes)\n",
      "\n",
      "Original tweet : UBS slashes Netflix price target ahead of earnings, warns of cautious outlook for streaming giant  https://t.co/x3f9WNCS2o\n",
      "Enriched tweet : UBS, UBS Group AG is a multinational investment bank and financial services company founded and based in Switzerland. Co-headquartered in the cities of Zürich and Basel, it maintains a presence in all major financial centres as the largest Swiss banking institution and the largest private bank in the world. UBS client services are known for their strict bank–client confidentiality and culture of . Because of the bank's large positions in the Americas, EMEA, and Asia Pacific markets, the Financial Stability Board considers it a global systemically important bank. slashes Netflix, Netflix, Inc. is an American subscription video on-demand over-the-top streaming service and production company based in Los Gatos, California. Founded in 1997 by Reed Hastings and Marc Randolph in Scotts Valley, California, it offers a film and television series library through distribution deals as well as its own productions, known as Netflix Originals. price target ahead of earnings, warns, The Varini, Warni or Warini were one or more Germanic peoples who originally lived in what is now northeastern Germany, near the Baltic sea. They are first named in the Roman era, and appear to have survived into the Middle Ages. It is proposed that in Old English they were called Werns or Warns. of cautious outlook for streaming giant  https://t.co/x3f9WNCS2o\n",
      "Original tweet length : 16\n",
      "Enriched tweet length : 210\n",
      "Annotations :\n",
      "  - UBS (http://dbpedia.org/resource/UBS)\n",
      "  - Netflix (http://dbpedia.org/resource/Netflix)\n",
      "  - warns (http://dbpedia.org/resource/Warini)\n",
      "\n",
      "Original tweet : BMO cuts Microsoft price target, citing pressure on software valuations and potential recession  https://t.co/JUOYvrXXVx\n",
      "Enriched tweet : BMO, The Bank of Montreal (BMO; French: Banque de Montréal) is a Canadian multinational investment bank and financial services company. The bank was founded in Montreal, Quebec, in 1817 as Montreal Bank; while its head office remains in Montreal, the operational headquarters and executive offices have been located in Toronto, Ontario since 1977. One of the Big Five banks in Canada, it is the fourth-largest bank in Canada by market capitalization and assets, and one of the eight largest banks in North America and the top 50 in the world. It is commonly known by its ticker symbol BMO (pronounced /ˈbiːmoʊ/), on both the Toronto Stock Exchange and the New York Stock Exchange. In October 2021, it had CA$634 billion in assets under administration (AUA). The Bank of Montreal swift code is BOFMCAM2 and cuts Microsoft, Microsoft Corporation is an American multinational technology corporation producing computer software, Software is a set of computer programs and associated documentation and data. This is in contrast to hardware, from which the system is built and which actually performs the work. At the lowest programming level, executable code consists of machine language instructions supported by an individual processor—typically a central processing unit (CPU) or a graphics processing unit (GPU). Machine language consists of groups of binary values signifying processor instructions that change the state of the computer from its preceding state. For example, an instruction may change the value stored in a particular storage location in the computer—an effect that is not directly observable to the user. An instruction may also invoke one of many input or output operations, for example displaying some tex, consumer electronics, personal computers, and related services headquartered at the Microsoft Redmond campus located in Redmond, Washington, United States. Its best-known software, Software is a set of computer programs and associated documentation and data. This is in contrast to hardware, from which the system is built and which actually performs the work. At the lowest programming level, executable code consists of machine language instructions supported by an individual processor—typically a central processing unit (CPU) or a graphics processing unit (GPU). Machine language consists of groups of binary values signifying processor instructions that change the state of the computer from its preceding state. For example, an instruction may change the value stored in a particular storage location in the computer—an effect that is not directly observable to the user. An instruction may also invoke one of many input or output operations, for example displaying some tex products are the Windows line of operating systems, the Microsoft Office suite, and the Internet Explorer and Edge web browsers. Its flagship hardware products are the Xbox video game consoles and the Microsoft Surface lineup of touchscreen personal computers. Microsoft ranked No. 21 in the 2020 Fortune 500 rankings of the largest United States corporations by total revenue; it was the world's largest software, Software is a set of computer programs and associated documentation and data. This is in contrast to hardware, from which the system is built and which actually performs the work. At the lowest programming level, executable code consists of machine language instructions supported by an individual processor—typically a central processing unit (CPU) or a graphics processing unit (GPU). Machine language consists of groups of binary values signifying processor instructions that change the state of the computer from its preceding state. For example, an instruction may change the value stored in a particular storage location in the computer—an effect that is not directly observable to the user. An instruction may also invoke one of many input or output operations, for example displaying some tex maker by revenue as of 2019. It is one of the Big Five American information technology companies, along price target, citing pressure, Pressure (symbol: p or P) is the force applied perpendicular to the surface of an object per unit area over which that force is distributed. Gauge pressure (also spelled gage pressure) is the pressure relative to the ambient pressure. on software, Software is a set of computer programs and associated documentation and data. This is in contrast to hardware, from which the system is built and which actually performs the work. At the lowest programming level, executable code consists of machine language instructions supported by an individual processor—typically a central processing unit (CPU) or a graphics processing unit (GPU). Machine language consists of groups of binary values signifying processor instructions that change the state of the computer from its preceding state. For example, an instruction may change the value stored in a particular storage location in the computer—an effect that is not directly observable to the user. An instruction may also invoke one of many input or output operations, for example displaying some tex valuations and potential recession, In economics, a recession is a business cycle contraction when there is a general decline in economic activity. Recessions generally occur when there is a widespread drop in spending (an adverse demand shock). This may be triggered by various events, such as a financial crisis, an external trade shock, an adverse supply shock, the bursting of an economic bubble, or a large-scale anthropogenic or natural disaster (e.g. a pandemic).  https://t.co/JUOYvrXXVx\n",
      "Original tweet length : 14\n",
      "Enriched tweet length : 862\n",
      "Annotations :\n",
      "  - BMO (http://dbpedia.org/resource/Bank_of_Montreal)\n",
      "  - Microsoft (http://dbpedia.org/resource/Microsoft)\n",
      "  - pressure (http://dbpedia.org/resource/Pressure)\n",
      "  - software (http://dbpedia.org/resource/Software)\n",
      "  - recession (http://dbpedia.org/resource/Recession)\n",
      "\n",
      "Original tweet : Edward Jones says buy Qualcomm as the chipmaker's pullback creates an attractive buying opportunity  https://t.co/rVOfTewDXw\n",
      "Enriched tweet : Edward Jones, Edward D. Jones & Co., L.P., (since 1995, d.b.a. Edward Jones Investments), simplified as Edward Jones, is a financial services firm headquartered in St. Louis, Missouri, United States. It serves investment clients in the U.S. and Canada, through its branch network of more than 15,000 locations and 19,000 financial advisors. The company currently has relationships with nearly 8 million clients and $1.7 trillion in assets, under management worldwide. The firm focuses solely on individual investors and small-business owners. Edward Jones is a subsidiary of The Jones Financial Companies, L.L.L.P., a limited liability limited partnership owned only by its employees and retired employees and is not publicly traded. Edward Jones appointed Penny Pennington as managing partner, effective January 2 says buy Qualcomm, Qualcomm (/ˈkwɒlkɒm/) is an American multinational corporation headquartered in San Diego, California, and incorporated in Delaware. It creates semiconductors, software, and services related to wireless technology. It owns patents critical to the 5G, 4G, CDMA2000, TD-SCDMA and WCDMA mobile communications standards. Over the years, Qualcomm has expanded into selling semiconductor products in a predominantly fabless manufacturing model. It also developed semiconductor components or software for vehicles, watches, laptops, wi-fi, smartphones, and other devices. as the chipmaker's pullback, In mathematics, a pullback bundle or induced bundle is the fiber bundle that is induced by a map of its base-space. Given a fiber bundle π : E → B and a continuous map f : B′ → B one can define a \"pullback\" of E by f as a bundle f*E over B′. The fiber of f*E over a point b′ in B′ is just the fiber of E over f(b′). Thus f*E is the disjoint union of all these fibers equipped with a suitable topology. creates an attractive buying opportunity  https://t.co/rVOfTewDXw\n",
      "Original tweet length : 15\n",
      "Enriched tweet length : 293\n",
      "Annotations :\n",
      "  - Edward Jones (http://dbpedia.org/resource/Edward_Jones_Investments)\n",
      "  - Qualcomm (http://dbpedia.org/resource/Qualcomm)\n",
      "  - pullback (http://dbpedia.org/resource/Pullback_bundle)\n",
      "\n",
      "Original tweet : Credit Suisse adds financials to its top stock picks for July  https://t.co/CoPMyQ0L7S\n",
      "Enriched tweet : Credit Suisse, Credit Suisse Group AG is a global investment bank and financial services firm founded and based in Switzerland. Headquartered in Zürich, it maintains offices in all major financial centers around the world and is one of the nine global \"Bulge Bracket\" banks providing services in investment banking, private banking, asset management, and shared services. It is known for strict bank–client confidentiality and banking secrecy. The Financial Stability Board considers it to be a global systemically important bank. Credit Suisse is also primary dealer and Forex counterparty of the FED. adds financials to its top stock, In finance, stock (also capital stock) consists of all the shares by which ownership of a corporation or company is divided. (Especially in American English, the word \"stocks\" is also used to refer to shares.) A single share of the stock means fractional ownership of the corporation in proportion to the total number of shares. This typically entitles the shareholder (stockholder) to that fraction of the company's earnings, proceeds from liquidation of assets (after discharge of all senior claims such as secured and unsecured debt), or voting power, often dividing these up in proportion to the amount of money each stockholder has invested. Not all stock is necessarily equal, as certain classes of stock may be issued for example without voting rights, with enhanced voting rights, or with a c picks for July  https://t.co/CoPMyQ0L7S\n",
      "Original tweet length : 12\n",
      "Enriched tweet length : 231\n",
      "Annotations :\n",
      "  - Credit Suisse (http://dbpedia.org/resource/Credit_Suisse)\n",
      "  - stock (http://dbpedia.org/resource/Stock)\n",
      "\n",
      "Original tweet : Here are Thursday's biggest analyst calls: Tesla, Amazon, Twitter, Qualcomm, Costco, Apple &amp; more  https://t.co/ISMHM2UZRJ\n",
      "Enriched tweet : Here are Thursday's biggest analyst calls: Tesla, The Tesla Model 3 is a compact executive sedan that is battery powered and produced by Tesla. Limited production of the Model 3 began in mid-2017, with the first production vehicle rolling off the assembly line on July 7, 2017. The official launch and delivery of the first 30 cars took place on July 28. The base Model 3 delivers an EPA-rated all-electric range of 272 miles (438 km) and the Long Range version delivers 358 miles (576 km). According to Tesla, the Model 3 carries full self-driving hardware, with periodic software updates adding functionality., Amazon, Amazon Prime Video, also known simply as Prime Video, is an American subscription video on-demand over-the-top streaming and rental service of Amazon offered as a standalone service or as part of Amazon's Prime subscription. The service primarily distributes films and television series produced by Amazon Studios and MGM Holdings or licensed to Amazon, as Amazon Originals, with the service also hosting content from other providers, content add-ons, live sporting events, and video rental and purchasing services., Twitter, Twitter is a microblogging, social networking service owned by American company Twitter, Inc., on which users post and interact with messages known as \"tweets\". Registered users can post, like, and retweet tweets, while unregistered users only have the ability to read public tweets. Users interact with Twitter through browser or mobile frontend software, or programmatically via its APIs. Before April 2020, services were accessible via SMS. Tweets were originally restricted to 140 characters, but the limit was doubled to 280 for non-CJK languages in November 2017. Audio and video tweets remain limited to 140 seconds for most accounts., Qualcomm, Qualcomm (/ˈkwɒlkɒm/) is an American multinational corporation headquartered in San Diego, California, and incorporated in Delaware. It creates semiconductors, software, and services related to wireless technology. It owns patents critical to the 5G, 4G, CDMA2000, TD-SCDMA and WCDMA mobile communications standards. Over the years, Qualcomm has expanded into selling semiconductor products in a predominantly fabless manufacturing model. It also developed semiconductor components or software for vehicles, watches, laptops, wi-fi, smartphones, and other devices., Costco, Costco Wholesale Corporation (doing business as Costco Wholesale and also known simply as Costco) is an American multinational corporation which operates a chain of membership-only big-box retail stores (warehouse club). As of 2022, Costco is the fifth largest retailer in the world and is the world's largest retailer of choice and prime beef, organic foods, rotisserie chicken, and wine as of 2016. In 2021, Costco was ranked #10 on the Fortune 500 rankings of the largest United States corporations by total revenue., Apple, Apple Inc. is an American multinational technology company headquartered in Cupertino, California, United States. Apple is the largest technology company by revenue (totaling US$365.8 billion in 2021) and, as of June 2022, is the world's biggest company by market capitalization, the fourth-largest personal computer vendor by unit sales and second-largest mobile phone manufacturer. It is one of the Big Five American information technology companies, alongside Alphabet, Amazon, Meta, and Microsoft. &amp; more  https://t.co/ISMHM2UZRJ\n",
      "Original tweet length : 15\n",
      "Enriched tweet length : 509\n",
      "Annotations :\n",
      "  - Tesla (http://dbpedia.org/resource/Tesla_Model_3)\n",
      "  - Amazon (http://dbpedia.org/resource/Amazon_Prime_Video)\n",
      "  - Twitter (http://dbpedia.org/resource/Twitter)\n",
      "  - Qualcomm (http://dbpedia.org/resource/Qualcomm)\n",
      "  - Costco (http://dbpedia.org/resource/Costco)\n",
      "  - Apple (http://dbpedia.org/resource/Apple_Inc.)\n",
      "\n",
      "Original tweet : Deutsche Bank upgrades Costco to buy, says club business model will outperform in uncertain economy  https://t.co/rVFXlknshz\n",
      "Enriched tweet : Deutsche Bank, Deutsche Bank AG (German pronunciation: [ˈdɔʏtʃə ˈbaŋk ʔaːˈɡeː]) is a German multinational investment bank and financial services company headquartered in Frankfurt, Germany, and dual-listed on the Frankfurt Stock Exchange and the New York Stock Exchange. The company is a universal bank with four major divisions: Investment Bank, Corporate Bank, Private Bank and Asset Management (DWS). Its investment banking operations often command substantial deal flow. upgrades Costco, Costco Wholesale Corporation (doing business as Costco Wholesale and also known simply as Costco) is an American multinational corporation which operates a chain of membership-only big-box retail stores (warehouse club). As of 2022, Costco is the fifth largest retailer in the world and is the world's largest retailer of choice and prime beef, organic foods, rotisserie chicken, and wine as of 2016. In 2021, Costco was ranked #10 on the Fortune 500 rankings of the largest United States corporations by total revenue. to buy, says club business model, A business model describes how an organization creates, delivers, and captures value, in economic, social, cultural or other contexts. The process of business model construction and modification is also called business model innovation and forms a part of business strategy. will outperform in uncertain economy  https://t.co/rVFXlknshz\n",
      "Original tweet length : 16\n",
      "Enriched tweet length : 202\n",
      "Annotations :\n",
      "  - Deutsche Bank (http://dbpedia.org/resource/Deutsche_Bank)\n",
      "  - Costco (http://dbpedia.org/resource/Costco)\n",
      "  - business model (http://dbpedia.org/resource/Business_model)\n",
      "\n",
      "Original tweet : Morgan Stanley's Jonas trims price target for Tesla, citing slowing economy  https://t.co/XvfRerTNGr\n",
      "Enriched tweet : Morgan Stanley, Morgan Stanley is an American multinational investment management and financial services company headquartered at 1585 Broadway in Midtown Manhattan, New York City. With offices in more than 41 countries and more than 75,000 employees, the firm's clients include corporations, governments, institutions, and individuals. Morgan Stanley ranked No. 61 in the 2021 Fortune 500 list of the largest United States corporations by total revenue.'s Jonas trims price target for Tesla, Nikola Tesla (/ˈtɛslə/ TESS-lə; Serbian Cyrillic: Никола Тесла, pronounced [nǐkola têsla]; 10 July [O.S. 28 June] 1856 – 7 January 1943) was a Serbian-American inventor, electrical engineer, mechanical engineer, and futurist best known for his contributions to the design of the modern alternating current (AC) electricity supply system., citing slowing economy  https://t.co/XvfRerTNGr\n",
      "Original tweet length : 12\n",
      "Enriched tweet length : 123\n",
      "Annotations :\n",
      "  - Morgan Stanley (http://dbpedia.org/resource/Morgan_Stanley)\n",
      "  - Tesla (http://dbpedia.org/resource/Nikola_Tesla)\n",
      "\n",
      "Original tweet : BMO upgrades Advanced Micro Devices, says chipmaker is gaining market share from rivals  https://t.co/3kGsQnHJ0D\n",
      "Enriched tweet : BMO, The Bank of Montreal (BMO; French: Banque de Montréal) is a Canadian multinational investment bank and financial services company. The bank was founded in Montreal, Quebec, in 1817 as Montreal Bank; while its head office remains in Montreal, the operational headquarters and executive offices have been located in Toronto, Ontario since 1977. One of the Big Five banks in Canada, it is the fourth-largest bank in Canada by market capitalization and assets, and one of the eight largest banks in North America and the top 50 in the world. It is commonly known by its ticker symbol BMO (pronounced /ˈbiːmoʊ/), on both the Toronto Stock Exchange and the New York Stock Exchange. In October 2021, it had CA$634 billion in assets under administration (AUA). The Bank of Montreal swift code is BOFMCAM2 and upgrades Advanced Micro Devices, Advanced Micro Devices, Inc. (AMD) is an American multinational semiconductor company based in Santa Clara, California, that develops computer processors and related technologies for business and consumer markets. While it initially manufactured its own processors, the company later outsourced its manufacturing, a practice known as going fabless, after GlobalFoundries was spun off in 2009. AMD's main products include microprocessors, motherboard chipsets, embedded processors, graphics processors, and FPGAs for servers, workstations, personal computers, and embedded system applications., says chipmaker is gaining market share, Market share is the percentage of the total revenue or sales in a market that a company's business makes up. For example, if there are 50,000 units sold per year in a given industry, a company whose sales were 5,000 of those units would have a 10 percent share in that market. Increasing market share is one of the most important objectives of business. The main advantage of using market share as a measure of business performance is that it is less dependent upon macro environmental variables such as the state of the economy or changes in tax policy. from rivals  https://t.co/3kGsQnHJ0D\n",
      "Original tweet length : 14\n",
      "Enriched tweet length : 322\n",
      "Annotations :\n",
      "  - BMO (http://dbpedia.org/resource/Bank_of_Montreal)\n",
      "  - Advanced Micro Devices (http://dbpedia.org/resource/Advanced_Micro_Devices)\n",
      "  - market share (http://dbpedia.org/resource/Market_share)\n",
      "\n",
      "Original tweet : Bank of America slashes S&amp;P 500 target, sees stocks falling another 5% by year-end  https://t.co/CC02X5ZguX\n",
      "Enriched tweet : Bank of America slashes S&amp;P 500 target, sees stocks falling another 5% by year-end  https://t.co/CC02X5ZguX\n",
      "Original tweet length : 15\n",
      "Enriched tweet length : 15\n",
      "Annotations :\n",
      "\n",
      "Original tweet : Truist initiates coverage of Tesla with a buy rating and $1,000 price target  https://t.co/ecDt58j4Cz\n",
      "Enriched tweet : Truist initiates coverage of Tesla, Nikola Tesla (/ˈtɛslə/ TESS-lə; Serbian Cyrillic: Никола Тесла, pronounced [nǐkola têsla]; 10 July [O.S. 28 June] 1856 – 7 January 1943) was a Serbian-American inventor, electrical engineer, mechanical engineer, and futurist best known for his contributions to the design of the modern alternating current (AC) electricity supply system. with a buy rating and $1,000 price target  https://t.co/ecDt58j4Cz\n",
      "Original tweet length : 14\n",
      "Enriched tweet length : 62\n",
      "Annotations :\n",
      "  - Tesla (http://dbpedia.org/resource/Nikola_Tesla)\n",
      "\n",
      "Original tweet : Goldman says this stock is a smart defensive play in the economically sensitive construction group  https://t.co/pBgwsq06Ok\n",
      "Enriched tweet : Goldman says this stock, In finance, stock (also capital stock) consists of all the shares by which ownership of a corporation or company is divided. (Especially in American English, the word \"stocks\" is also used to refer to shares.) A single share of the stock means fractional ownership of the corporation in proportion to the total number of shares. This typically entitles the shareholder (stockholder) to that fraction of the company's earnings, proceeds from liquidation of assets (after discharge of all senior claims such as secured and unsecured debt), or voting power, often dividing these up in proportion to the amount of money each stockholder has invested. Not all stock is necessarily equal, as certain classes of stock may be issued for example without voting rights, with enhanced voting rights, or with a c is a smart defensive play in the economically sensitive construction group  https://t.co/pBgwsq06Ok\n",
      "Original tweet length : 16\n",
      "Enriched tweet length : 146\n",
      "Annotations :\n",
      "  - stock (http://dbpedia.org/resource/Stock)\n",
      "\n",
      "Original tweet : Wall Street bets on analysts cutting earnings estimates as the economy shows signs of slowing  https://t.co/RFaVYNxnk7\n",
      "Enriched tweet : Wall Street, Wall Street is an eight-block-long street in the Financial District of Lower Manhattan in New York City. It runs between Broadway in the west to South Street and the East River in the east. The term \"Wall Street\" has become a metonym for the financial markets of the United States as a whole, the American financial services industry, New York–based financial interests, or the Financial District itself. Anchored by Wall Street, New York has been described as the world's principal financial center. bets on analysts cutting earnings estimates as the economy shows signs of slowing  https://t.co/RFaVYNxnk7\n",
      "Original tweet length : 16\n",
      "Enriched tweet length : 98\n",
      "Annotations :\n",
      "  - Wall Street (http://dbpedia.org/resource/Wall_Street)\n",
      "\n",
      "Original tweet : Raymond James says Bath &amp; Body Works is oversold and will jump nearly 70% from here  https://t.co/SpGPi6zVko\n",
      "Enriched tweet : Raymond, Raymond Herbert Asquith (6 November 1878 – 15 September 1916) was an English barrister and eldest son of British prime minister H. H. Asquith. A distinguished Oxford scholar, he was a member of the fashionable group of intellectuals known as the Coterie, which included, Lady Diana Manners, Patrick Shaw-Stewart, Charles Lister, Ego Charteris, Julian Grenfell and Edward Horner. The Coterie were notable for their unconventional lifestyles and lavish hospitality. Like several of them, Asquith was killed in action in the First World War during his father's term in office. James, James VI and I (James Charles Stuart; 19 June 1566 – 27 March 1625) was King of Scotland as James VI from 24 July 1567 and King of England and Ireland as James I from the union of the Scottish and English crowns on 24 March 1603 until his death in 1625. The kingdoms of Scotland and England were individual sovereign states, with their own parliaments, judiciaries, and laws, though both were ruled by James in personal union. says Bath, Bath Rugby is a professional rugby union club in Bath, Somerset, England. They play in Premiership Rugby, England's top division of rugby. Founded in 1865 as Bath Football Club, since 1894 the club has played at the Recreation Ground in the city centre.The club has won 18 major trophies and was particularly successful between 1984 and 1998 when it won 10 Domestic Cups, 6 League titles and were the first English side to win the European Cup in 1998. In 2008 they also won the European Challenge Cup, the continent's second tier of competition. Bath is one of only three clubs never to have been relegated from the top division of English rugby. &amp; Body Works is oversold and will jump nearly 70% from here  https://t.co/SpGPi6zVko\n",
      "Original tweet length : 17\n",
      "Enriched tweet length : 297\n",
      "Annotations :\n",
      "  - Raymond (http://dbpedia.org/resource/Raymond_Asquith)\n",
      "  - James (http://dbpedia.org/resource/James_VI_and_I)\n",
      "  - Bath (http://dbpedia.org/resource/Bath_Rugby)\n",
      "\n",
      "Original tweet : Analyst call of the day for @CNBCPro subscribers: Citi reiterates Nvidia as buy. It lowered its price target on Nvidia to $285 per share from $315, but said gaming weakness is priced in.  Subscribe to see the analyst calls of the day curated by CNBC Pro.  https://t.co/Mczemx4nek\n",
      "Enriched tweet : Analyst call of the day for @CNBC, CNBC (formerly Consumer News and Business Channel) is an American basic cable business news channel. It provides business news programming on weekdays from 5:00 a.m. to 7:00 p.m., Eastern Time, while broadcasting talk shows, investigative reports, documentaries, infomercials, reality shows, and other programs at all other times. Along with Fox Business and Bloomberg Television, it is one of the three major business news channels. It also operates a website and mobile apps, whereby users can watch the channel via streaming media, and which provide some content that is only accessible to paid subscribers. CNBC content is available on demand on smart speakers including Amazon Echo devices with Amazon Alexa, Google Home and app devices with Google Assistant, and on Apple Siri voice interfaces Pro subscribers: Citi reiterates Nvidia, Nvidia Corporation (/ɛnˈvɪdiə/ en-VID-ee-ə) is an American multinational technology company incorporated in Delaware and based in Santa Clara, California. It is a software and fabless company which designs graphics processing units (GPUs), application programming interface (APIs) for data science and high-performance computing as well as system on a chip units (SoCs) for the mobile computing and automotive market. Nvidia is a global leader in artificial intelligence hardware and software. Its professional line of GPUs are used in workstations for applications in such fields as architecture, engineering and construction, media and entertainment, automotive, scientific research, and manufacturing design., Nvidia, Nvidia Corporation (/ɛnˈvɪdiə/ en-VID-ee-ə) is an American multinational technology company incorporated in Delaware and based in Santa Clara, California. It is a software and fabless company which designs graphics processing units (GPUs), application programming interface (APIs) for data science and high-performance computing as well as system on a chip units (SoCs) for the mobile computing and automotive market. Nvidia is a global leader in artificial intelligence hardware and software. Its professional line of GPUs are used in workstations for applications in such fields as architecture, engineering and construction, media and entertainment, automotive, scientific research, and manufacturing design. Corporation (/ɛnˈvɪdiə/ en-VID-ee-ə) is an American multinational technology company incorporated in Delaware and based in Santa Clara, California. It is a software and fabless company which designs graphics processing units (GPUs), application programming interface (APIs) for data science and high-performance computing as well as system on a chip units (SoCs) for the mobile computing and automotive market. Nvidia, Nvidia Corporation (/ɛnˈvɪdiə/ en-VID-ee-ə) is an American multinational technology company incorporated in Delaware and based in Santa Clara, California. It is a software and fabless company which designs graphics processing units (GPUs), application programming interface (APIs) for data science and high-performance computing as well as system on a chip units (SoCs) for the mobile computing and automotive market. Nvidia is a global leader in artificial intelligence hardware and software. Its professional line of GPUs are used in workstations for applications in such fields as architecture, engineering and construction, media and entertainment, automotive, scientific research, and manufacturing design. is a global leader in artificial intelligence hardware and software. Its professional line of GPUs are used in workstations for applications in such fields as architecture, engineering and construction, media and entertainment, automotive, scientific research, and manufacturing design. as buy. It lowered its price target on Nvidia, Nvidia Corporation (/ɛnˈvɪdiə/ en-VID-ee-ə) is an American multinational technology company incorporated in Delaware and based in Santa Clara, California. It is a software and fabless company which designs graphics processing units (GPUs), application programming interface (APIs) for data science and high-performance computing as well as system on a chip units (SoCs) for the mobile computing and automotive market. Nvidia is a global leader in artificial intelligence hardware and software. Its professional line of GPUs are used in workstations for applications in such fields as architecture, engineering and construction, media and entertainment, automotive, scientific research, and manufacturing design., Nvidia, Nvidia Corporation (/ɛnˈvɪdiə/ en-VID-ee-ə) is an American multinational technology company incorporated in Delaware and based in Santa Clara, California. It is a software and fabless company which designs graphics processing units (GPUs), application programming interface (APIs) for data science and high-performance computing as well as system on a chip units (SoCs) for the mobile computing and automotive market. Nvidia is a global leader in artificial intelligence hardware and software. Its professional line of GPUs are used in workstations for applications in such fields as architecture, engineering and construction, media and entertainment, automotive, scientific research, and manufacturing design. Corporation (/ɛnˈvɪdiə/ en-VID-ee-ə) is an American multinational technology company incorporated in Delaware and based in Santa Clara, California. It is a software and fabless company which designs graphics processing units (GPUs), application programming interface (APIs) for data science and high-performance computing as well as system on a chip units (SoCs) for the mobile computing and automotive market. Nvidia, Nvidia Corporation (/ɛnˈvɪdiə/ en-VID-ee-ə) is an American multinational technology company incorporated in Delaware and based in Santa Clara, California. It is a software and fabless company which designs graphics processing units (GPUs), application programming interface (APIs) for data science and high-performance computing as well as system on a chip units (SoCs) for the mobile computing and automotive market. Nvidia is a global leader in artificial intelligence hardware and software. Its professional line of GPUs are used in workstations for applications in such fields as architecture, engineering and construction, media and entertainment, automotive, scientific research, and manufacturing design. is a global leader in artificial intelligence hardware and software. Its professional line of GPUs are used in workstations for applications in such fields as architecture, engineering and construction, media and entertainment, automotive, scientific research, and manufacturing design. to $285 per share from $315, but said gaming weakness is priced in.  Subscribe to see the analyst calls of the day curated by CNBC, CNBC (formerly Consumer News and Business Channel) is an American basic cable business news channel. It provides business news programming on weekdays from 5:00 a.m. to 7:00 p.m., Eastern Time, while broadcasting talk shows, investigative reports, documentaries, infomercials, reality shows, and other programs at all other times. Along with Fox Business and Bloomberg Television, it is one of the three major business news channels. It also operates a website and mobile apps, whereby users can watch the channel via streaming media, and which provide some content that is only accessible to paid subscribers. CNBC content is available on demand on smart speakers including Amazon Echo devices with Amazon Alexa, Google Home and app devices with Google Assistant, and on Apple Siri voice interfaces  Pro.  https://t.co/Mczemx4nek\n",
      "Original tweet length : 47\n",
      "Enriched tweet length : 1070\n",
      "Annotations :\n",
      "  - Nvidia (http://dbpedia.org/resource/Nvidia)\n",
      "  - Nvidia (http://dbpedia.org/resource/Nvidia)\n",
      "  - CNBC (http://dbpedia.org/resource/CNBC)\n",
      "\n",
      "Original tweet : Company downgrades are picking up steam as profit outlooks dim  https://t.co/89B4wuA8NS\n",
      "Enriched tweet : Company downgrades are picking up steam as profit outlooks dim  https://t.co/89B4wuA8NS\n",
      "Original tweet length : 11\n",
      "Enriched tweet length : 11\n",
      "Annotations :\n",
      "\n",
      "Original tweet : Morgan Stanley names its top stocks in a \"safe haven\" tech sector — giving one upside of 60%  https://t.co/EJWD9uzzzP\n",
      "Enriched tweet : Morgan Stanley, Morgan Stanley is an American multinational investment management and financial services company headquartered at 1585 Broadway in Midtown Manhattan, New York City. With offices in more than 41 countries and more than 75,000 employees, the firm's clients include corporations, governments, institutions, and individuals. Morgan Stanley ranked No. 61 in the 2021 Fortune 500 list of the largest United States corporations by total revenue. names its top stocks in a \"safe haven\" tech sector — giving one upside of 60%  https://t.co/EJWD9uzzzP\n",
      "Original tweet length : 19\n",
      "Enriched tweet length : 82\n",
      "Annotations :\n",
      "  - Morgan Stanley (http://dbpedia.org/resource/Morgan_Stanley)\n",
      "\n",
      "Original tweet : Susquehanna downgrades JetBlue, cites struggles with cost structure  https://t.co/eVYtLZGWaf\n",
      "Enriched tweet : Susquehanna, The Susquehanna River (/ˌsʌskwəˈhænə/; Lenape: Siskëwahane) is a major river located in the Mid-Atlantic region of the United States, overlapping between the lower Northeast and the Upland South. At 444 miles (715 km) long, it is the longest river on the East Coast of the United States. By watershed area, it is the 16th-largest river in the United States, and also the longest river in the early 21st-century continental United States without commercial boat traffic. downgrades JetBlue, JetBlue Airways Corporation (stylized as jetBlue) is a major American low cost airline, and the seventh largest airline in North America by passengers carried. The airline is headquartered in the Long Island City neighborhood of the New York City borough of Queens; it also maintains corporate offices in Utah and Florida., cites struggles with cost structure  https://t.co/eVYtLZGWaf\n",
      "Original tweet length : 9\n",
      "Enriched tweet length : 135\n",
      "Annotations :\n",
      "  - Susquehanna (http://dbpedia.org/resource/Susquehanna_River)\n",
      "  - JetBlue (http://dbpedia.org/resource/JetBlue)\n",
      "\n",
      "Original tweet : Here are Tuesday's biggest analyst calls: Tesla, Apple, Gap, JPMorgan chase, Nvidia, Southwest  https://t.co/PDr6BL9S9j\n",
      "Enriched tweet : Here are Tuesday's biggest analyst calls: Tesla, Nvidia, Nvidia Corporation (/ɛnˈvɪdiə/ en-VID-ee-ə) is an American multinational technology company incorporated in Delaware and based in Santa Clara, California. It is a software and fabless company which designs graphics processing units (GPUs), application programming interface (APIs) for data science and high-performance computing as well as system on a chip units (SoCs) for the mobile computing and automotive market. Nvidia is a global leader in artificial intelligence hardware and software. Its professional line of GPUs are used in workstations for applications in such fields as architecture, engineering and construction, media and entertainment, automotive, scientific research, and manufacturing design. Tesla was the name of Nvidia, Nvidia Corporation (/ɛnˈvɪdiə/ en-VID-ee-ə) is an American multinational technology company incorporated in Delaware and based in Santa Clara, California. It is a software and fabless company which designs graphics processing units (GPUs), application programming interface (APIs) for data science and high-performance computing as well as system on a chip units (SoCs) for the mobile computing and automotive market. Nvidia is a global leader in artificial intelligence hardware and software. Its professional line of GPUs are used in workstations for applications in such fields as architecture, engineering and construction, media and entertainment, automotive, scientific research, and manufacturing design.'s line of products targeted at stream processing or general-purpose graphics processing units (GPGPU), named after pioneering electrical engineer Nikola Tesla. Its products began using GPUs from the G80 series, and have continued to accompany the release of new chips. They are programmable using the CUDA or OpenCL APIs. The Nvidia, Nvidia Corporation (/ɛnˈvɪdiə/ en-VID-ee-ə) is an American multinational technology company incorporated in Delaware and based in Santa Clara, California. It is a software and fabless company which designs graphics processing units (GPUs), application programming interface (APIs) for data science and high-performance computing as well as system on a chip units (SoCs) for the mobile computing and automotive market. Nvidia is a global leader in artificial intelligence hardware and software. Its professional line of GPUs are used in workstations for applications in such fields as architecture, engineering and construction, media and entertainment, automotive, scientific research, and manufacturing design. Tesla product line competed with AMD's Radeon Instinct and Intel Xeon Phi lines of deep learning and GPU cards., Apple, Apple Inc. is an American multinational technology company headquartered in Cupertino, California, United States. Apple is the largest technology company by revenue (totaling US$365.8 billion in 2021) and, as of June 2022, is the world's biggest company by market capitalization, the fourth-largest personal computer vendor by unit sales and second-largest mobile phone manufacturer. It is one of the Big Five American information technology companies, alongside Alphabet, Amazon, Meta, and Microsoft., Gap, The Gap, Inc., commonly known as Gap Inc. or Gap (stylized as GAP), is an American worldwide clothing and accessories retailer. Gap was founded in 1969 by Donald Fisher and Doris F. Fisher and is headquartered in San Francisco, California. The company operates four primary divisions: Gap (the namesake banner), Banana Republic, Old Navy, and Athleta. Gap Inc. is the largest specialty retailer in the United States, and is 3rd in total international locations, behind Inditex Group and H&M. As of September 2008, the company has approximately 135,000 employees and operates 3,727 stores worldwide, of which 2,406 are located in the U.S., JPMorgan chase, JPMorgan Chase & Co. is an American multinational investment bank and financial services holding company headquartered in New York City and incorporated in Delaware. As of 2022, JPMorgan Chase is the largest bank in the United States, the world's largest bank by market capitalization, and the fifth largest bank in the world in terms of total assets, with total assets of US$3.774 trillion. Additionally, JPMorgan Chase is ranked 24th on the Fortune 500 list of the largest United States corporations by total revenue. It is considered a systemically important bank by the Financial Stability Board., Nvidia, Nvidia Corporation (/ɛnˈvɪdiə/ en-VID-ee-ə) is an American multinational technology company incorporated in Delaware and based in Santa Clara, California. It is a software and fabless company which designs graphics processing units (GPUs), application programming interface (APIs) for data science and high-performance computing as well as system on a chip units (SoCs) for the mobile computing and automotive market. Nvidia is a global leader in artificial intelligence hardware and software. Its professional line of GPUs are used in workstations for applications in such fields as architecture, engineering and construction, media and entertainment, automotive, scientific research, and manufacturing design., Southwest, Southwest Airlines Co., typically referred to as Southwest, is one of the major airlines of the United States and the world's largest low-cost carrier. It is headquartered in Dallas, Texas, and has scheduled service to 121 destinations in the United States and 10 additional countries. As of 2018, Southwest carried more domestic passengers than any other United States airline. Southwest's business model is distinct from other US airlines as it uses a rolling hub and point-to-point network and allows free checked baggage. It exclusively uses Boeing 737 jets in its fleet.  https://t.co/PDr6BL9S9j\n",
      "Original tweet length : 14\n",
      "Enriched tweet length : 836\n",
      "Annotations :\n",
      "  - Tesla (http://dbpedia.org/resource/Nvidia_Tesla)\n",
      "  - Apple (http://dbpedia.org/resource/Apple_Inc.)\n",
      "  - Gap (http://dbpedia.org/resource/Gap_Inc.)\n",
      "  - JPMorgan chase (http://dbpedia.org/resource/JPMorgan_Chase)\n",
      "  - Nvidia (http://dbpedia.org/resource/Nvidia)\n",
      "  - Southwest (http://dbpedia.org/resource/Southwest_Airlines)\n",
      "\n",
      "Original tweet : Morgan Stanley downgrades American Express on lower spending among high-end consumers  https://t.co/LhzFvUMP2i\n",
      "Enriched tweet : Morgan Stanley, Morgan Stanley is an American multinational investment management and financial services company headquartered at 1585 Broadway in Midtown Manhattan, New York City. With offices in more than 41 countries and more than 75,000 employees, the firm's clients include corporations, governments, institutions, and individuals. Morgan Stanley ranked No. 61 in the 2021 Fortune 500 list of the largest United States corporations by total revenue. downgrades American Express, American Express Company (Amex) is an American multinational corporation specialized in payment card services headquartered at 200 Vesey Street in the Battery Park City neighborhood of Lower Manhattan in New York City. The company was founded in 1850 and is one of the 30 components of the Dow Jones Industrial Average. The company's logo, adopted in 1958, is a gladiator or centurion whose image appears on the company's well-known traveler's cheques, charge cards, and credit cards. on lower spending among high-end consumers  https://t.co/LhzFvUMP2i\n",
      "Original tweet length : 12\n",
      "Enriched tweet length : 151\n",
      "Annotations :\n",
      "  - Morgan Stanley (http://dbpedia.org/resource/Morgan_Stanley)\n",
      "  - American Express (http://dbpedia.org/resource/American_Express)\n"
     ]
    }
   ],
   "source": [
    "for i in range(len(annotated_tweets)):\n",
    "    annotated_tweet = annotated_tweets[i]\n",
    "    print(f\"\\nOriginal tweet : {df['tweet'][i]}\")\n",
    "    print(f\"Enriched tweet : {df['enriched_tweet'][i]}\")\n",
    "    print(f\"Original tweet length : {df['tweet_length'][i]}\")\n",
    "    print(f\"Enriched tweet length : {df['enriched_tweet_length'][i]}\")\n",
    "    print(\"Annotations :\")\n",
    "    \n",
    "    for ann in annotated_tweet[\"annotations\"]:\n",
    "        print(f\"  - {ann['surfaceForm']} ({ann['URI']})\")"
   ]
  },
  {
   "cell_type": "markdown",
   "metadata": {},
   "source": [
    "## Results"
   ]
  },
  {
   "cell_type": "code",
   "execution_count": 22,
   "metadata": {},
   "outputs": [
    {
     "name": "stdout",
     "output_type": "stream",
     "text": [
      "Average tweet size : 16.2, enriched : 268.66\n",
      "Median tweet size : 15.0, enriched : 214.5\n"
     ]
    }
   ],
   "source": [
    "mean_length_tweet = df[\"tweet_length\"].mean()\n",
    "median_length_tweet = df[\"tweet_length\"].median()\n",
    "mean_length_enriched_tweet = df[\"enriched_tweet_length\"].mean()\n",
    "median_length_enriched_tweet = df[\"enriched_tweet_length\"].median()\n",
    "\n",
    "print(f\"Average tweet size : {mean_length_tweet}, enriched : {mean_length_enriched_tweet}\")\n",
    "print(f\"Median tweet size : {median_length_tweet}, enriched : {median_length_enriched_tweet}\")"
   ]
  },
  {
   "cell_type": "markdown",
   "metadata": {},
   "source": [
    "TODO results + 6."
   ]
  }
 ],
 "metadata": {
  "kernelspec": {
   "display_name": "tp2-1Pndhv9y",
   "language": "python",
   "name": "python3"
  },
  "language_info": {
   "codemirror_mode": {
    "name": "ipython",
    "version": 3
   },
   "file_extension": ".py",
   "mimetype": "text/x-python",
   "name": "python",
   "nbconvert_exporter": "python",
   "pygments_lexer": "ipython3",
   "version": "3.10.0"
  }
 },
 "nbformat": 4,
 "nbformat_minor": 2
}
